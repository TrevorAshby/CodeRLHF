{
 "cells": [
  {
   "cell_type": "code",
   "execution_count": 3,
   "metadata": {},
   "outputs": [],
   "source": [
    "import os"
   ]
  },
  {
   "cell_type": "code",
   "execution_count": 7,
   "metadata": {},
   "outputs": [
    {
     "name": "stdout",
     "output_type": "stream",
     "text": [
      "38\n"
     ]
    }
   ],
   "source": [
    "num_good = 0\n",
    "for filename in os.listdir('./'):\n",
    "    code_str = open(f'./{filename}', 'r', encoding='utf-8').read()\n",
    "    code_str = code_str[3+len('python'):-3]\n",
    "    #print(code_str)\n",
    "    try:\n",
    "        x = compile(code_str, 'test', 'exec')\n",
    "        num_good += 1\n",
    "    except:\n",
    "        continue\n",
    "print(num_good)"
   ]
  }
 ],
 "metadata": {
  "kernelspec": {
   "display_name": "Python 3",
   "language": "python",
   "name": "python3"
  },
  "language_info": {
   "codemirror_mode": {
    "name": "ipython",
    "version": 3
   },
   "file_extension": ".py",
   "mimetype": "text/x-python",
   "name": "python",
   "nbconvert_exporter": "python",
   "pygments_lexer": "ipython3",
   "version": "3.10.0"
  }
 },
 "nbformat": 4,
 "nbformat_minor": 2
}
