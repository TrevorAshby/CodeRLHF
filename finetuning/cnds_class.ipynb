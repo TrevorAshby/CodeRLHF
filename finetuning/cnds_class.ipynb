{
 "cells": [
  {
   "cell_type": "code",
   "execution_count": 10,
   "metadata": {},
   "outputs": [],
   "source": [
    "import torch\n",
    "import pandas as pd\n",
    "import numpy as np\n",
    "from torch.utils.data import Dataset, DataLoader \n",
    "import transformers\n",
    "from transformers import GPT2Tokenizer, GPT2Model\n",
    "from tqdm import tqdm\n",
    "import os"
   ]
  },
  {
   "cell_type": "code",
   "execution_count": 2,
   "metadata": {},
   "outputs": [
    {
     "data": {
      "text/html": [
       "<div>\n",
       "<style scoped>\n",
       "    .dataframe tbody tr th:only-of-type {\n",
       "        vertical-align: middle;\n",
       "    }\n",
       "\n",
       "    .dataframe tbody tr th {\n",
       "        vertical-align: top;\n",
       "    }\n",
       "\n",
       "    .dataframe thead th {\n",
       "        text-align: right;\n",
       "    }\n",
       "</style>\n",
       "<table border=\"1\" class=\"dataframe\">\n",
       "  <thead>\n",
       "    <tr style=\"text-align: right;\">\n",
       "      <th></th>\n",
       "      <th>level_0</th>\n",
       "      <th>index</th>\n",
       "      <th>submission_id</th>\n",
       "      <th>problem_id</th>\n",
       "      <th>language</th>\n",
       "      <th>filename_ext</th>\n",
       "      <th>status</th>\n",
       "      <th>cpu_time</th>\n",
       "      <th>memory</th>\n",
       "      <th>code_size</th>\n",
       "      <th>accuracy</th>\n",
       "      <th>solution</th>\n",
       "      <th>problem_statement</th>\n",
       "    </tr>\n",
       "  </thead>\n",
       "  <tbody>\n",
       "    <tr>\n",
       "      <th>0</th>\n",
       "      <td>761513</td>\n",
       "      <td>7854</td>\n",
       "      <td>s355775556</td>\n",
       "      <td>p03053</td>\n",
       "      <td>C++</td>\n",
       "      <td>cpp</td>\n",
       "      <td>Runtime Error</td>\n",
       "      <td>342.0</td>\n",
       "      <td>5120.0</td>\n",
       "      <td>1831</td>\n",
       "      <td>None</td>\n",
       "      <td>#include &lt;stdio.h&gt;\\n#include &lt;stdlib.h&gt;\\n#incl...</td>\n",
       "      <td>Score : 300 points \\n Problem Statement You ar...</td>\n",
       "    </tr>\n",
       "    <tr>\n",
       "      <th>1</th>\n",
       "      <td>761514</td>\n",
       "      <td>15586</td>\n",
       "      <td>s361808912</td>\n",
       "      <td>p03053</td>\n",
       "      <td>Python</td>\n",
       "      <td>py</td>\n",
       "      <td>Runtime Error</td>\n",
       "      <td>1062.0</td>\n",
       "      <td>150772.0</td>\n",
       "      <td>692</td>\n",
       "      <td>None</td>\n",
       "      <td>H, W = map(int, input().split())\\nA = []\\nfor ...</td>\n",
       "      <td>Score : 300 points \\n Problem Statement You ar...</td>\n",
       "    </tr>\n",
       "    <tr>\n",
       "      <th>2</th>\n",
       "      <td>761515</td>\n",
       "      <td>14291</td>\n",
       "      <td>s920384889</td>\n",
       "      <td>p03053</td>\n",
       "      <td>C++</td>\n",
       "      <td>cpp</td>\n",
       "      <td>Runtime Error</td>\n",
       "      <td>389.0</td>\n",
       "      <td>512.0</td>\n",
       "      <td>1372</td>\n",
       "      <td>None</td>\n",
       "      <td>#include &lt;iostream&gt;\\nusing namespace std;\\n\\ni...</td>\n",
       "      <td>Score : 300 points \\n Problem Statement You ar...</td>\n",
       "    </tr>\n",
       "    <tr>\n",
       "      <th>3</th>\n",
       "      <td>761516</td>\n",
       "      <td>14222</td>\n",
       "      <td>s539766324</td>\n",
       "      <td>p03053</td>\n",
       "      <td>Python</td>\n",
       "      <td>py</td>\n",
       "      <td>Runtime Error</td>\n",
       "      <td>1064.0</td>\n",
       "      <td>138392.0</td>\n",
       "      <td>638</td>\n",
       "      <td>None</td>\n",
       "      <td># coding:utf-8\\n\\nif __name__=='__main__':\\n  ...</td>\n",
       "      <td>Score : 300 points \\n Problem Statement You ar...</td>\n",
       "    </tr>\n",
       "    <tr>\n",
       "      <th>4</th>\n",
       "      <td>761517</td>\n",
       "      <td>1227</td>\n",
       "      <td>s849699734</td>\n",
       "      <td>p03053</td>\n",
       "      <td>Python</td>\n",
       "      <td>py</td>\n",
       "      <td>Runtime Error</td>\n",
       "      <td>758.0</td>\n",
       "      <td>308244.0</td>\n",
       "      <td>13571</td>\n",
       "      <td>None</td>\n",
       "      <td>import sys,bisect,string,math,time,functools,r...</td>\n",
       "      <td>Score : 300 points \\n Problem Statement You ar...</td>\n",
       "    </tr>\n",
       "  </tbody>\n",
       "</table>\n",
       "</div>"
      ],
      "text/plain": [
       "   level_0  index submission_id problem_id language filename_ext  \\\n",
       "0   761513   7854    s355775556     p03053      C++          cpp   \n",
       "1   761514  15586    s361808912     p03053   Python           py   \n",
       "2   761515  14291    s920384889     p03053      C++          cpp   \n",
       "3   761516  14222    s539766324     p03053   Python           py   \n",
       "4   761517   1227    s849699734     p03053   Python           py   \n",
       "\n",
       "          status  cpu_time    memory  code_size accuracy  \\\n",
       "0  Runtime Error     342.0    5120.0       1831     None   \n",
       "1  Runtime Error    1062.0  150772.0        692     None   \n",
       "2  Runtime Error     389.0     512.0       1372     None   \n",
       "3  Runtime Error    1064.0  138392.0        638     None   \n",
       "4  Runtime Error     758.0  308244.0      13571     None   \n",
       "\n",
       "                                            solution  \\\n",
       "0  #include <stdio.h>\\n#include <stdlib.h>\\n#incl...   \n",
       "1  H, W = map(int, input().split())\\nA = []\\nfor ...   \n",
       "2  #include <iostream>\\nusing namespace std;\\n\\ni...   \n",
       "3  # coding:utf-8\\n\\nif __name__=='__main__':\\n  ...   \n",
       "4  import sys,bisect,string,math,time,functools,r...   \n",
       "\n",
       "                                   problem_statement  \n",
       "0  Score : 300 points \\n Problem Statement You ar...  \n",
       "1  Score : 300 points \\n Problem Statement You ar...  \n",
       "2  Score : 300 points \\n Problem Statement You ar...  \n",
       "3  Score : 300 points \\n Problem Statement You ar...  \n",
       "4  Score : 300 points \\n Problem Statement You ar...  "
      ]
     },
     "execution_count": 2,
     "metadata": {},
     "output_type": "execute_result"
    }
   ],
   "source": [
    "data = pd.read_feather('../mini_codenet/data/split/reward_val.ftr')\n",
    "data.head()"
   ]
  },
  {
   "cell_type": "code",
   "execution_count": 3,
   "metadata": {},
   "outputs": [
    {
     "data": {
      "text/plain": [
       "'#include <stdio.h>\\n#include <stdlib.h>\\n#include <math.h>\\n#include <string.h>\\n#include <queue>\\nusing namespace std;\\ntypedef unsigned int uint;\\ntypedef long long ll;\\ntypedef pair<int, int> P;\\nconst int c_INF = 111111111;\\nconst int c_mINF = -111111111;\\nconst int c_YET = -1;\\nconst int c_Dx[4] = { 0,0,1,-1 };\\nconst int c_Dy[4] = { 1,-1,0,0 };\\n\\nvoid debug();\\n\\n\\nint H, W, dst[1000][1000];\\nchar  grid[1000][1000];\\nvoid BFS(int sy, int sx);\\nint main() {\\n\\tscanf(\"%d%d\", &H, &W);\\n\\tfor (int i = 0; i < H; i++)scanf(\"%s\", grid[i]);\\n\\n\\tfor (int i = 0; i < H; i++)\\n\\t\\tfor (int j = 0; j < W; j++)dst[i][j] = c_YET;\\n\\n\\tfor (int i = 0; i < H; i++)\\n\\t\\tfor (int j = 0; j < W; j++)\\n\\t\\t\\tif (grid[i][j] == \\'#\\')BFS(i, j);\\n\\n\\tint max = c_mINF;\\n\\tfor (int i = 0; i < H; i++)\\n\\t\\tfor (int j = 0; j < W; j++)\\n\\t\\t\\tif (dst[i][j] > max)max = dst[i][j];\\n\\n\\tprintf(\"%d\", max);\\n\\n}\\n\\n\\nvoid BFS(int sy,int sx) {\\n\\tdst[sy][sx] = 0;\\n\\tqueue<P> que;\\n\\tque.push(P(sy, sx));\\n\\n\\twhile (que.size()) {\\n\\t\\tP p = que.front();\\n\\t\\tque.pop();\\n\\n\\t\\tfor (int i = 0; i < 4; i++) {\\n\\t\\t\\tint ny = p.first + c_Dy[i];\\n\\t\\t\\tint nx = p.second + c_Dx[i];\\n\\t\\t\\tint temp = dst[p.first][p.second] + 1;\\n\\t\\t\\tif (temp >= dst[ny][nx])break;\\n\\t\\t\\telse if (ny >= 0 && ny < H&&nx >= 0 && nx < W&&grid[ny][nx] != \\'#\\' ||dst[ny][nx] == c_YET ) {\\n\\t\\t\\t\\tque.push(P(ny, nx));\\n\\t\\t\\t\\tdst[ny][nx] = temp;\\n\\t\\t\\t\\n\\t\\t\\t}\\n\\n\\t\\t}\\n\\t}\\n\\n\\n\\t//debug();\\n}\\n\\nvoid debug() {\\n\\tprintf(\"\\\\n\");\\n\\tfor (int i = 0; i < H; i++) {\\n\\t\\tprintf(\"\\\\n\");\\n\\t\\tfor (int j = 0; j < W; j++)\\n\\t\\t\\tprintf(\"%d  \", dst[i][j]);\\n\\t}\\n\\n}\\n\\n\\n/*         提出前の確認事項\\n\\n・デバッグ用の関数は＜＜コメント化＞＞しているか？\\n・すべての＜＜入力例＞＞は試したか？\\n・＜＜限界値分析＞＞はしたか？\\n・＜＜出力の改行＞＞の有無は確認したか？\\n\\u3000\\u3000\\u3000\\u3000\\u3000\\u3000\\u3000\\u3000↓\\n\\t ＜＜提出先＞＞に注意して提出！！\\n*/'"
      ]
     },
     "execution_count": 3,
     "metadata": {},
     "output_type": "execute_result"
    }
   ],
   "source": [
    "data.iloc[0][\"solution\"]"
   ]
  },
  {
   "cell_type": "code",
   "execution_count": 4,
   "metadata": {},
   "outputs": [],
   "source": [
    "class CodeNetDataset(Dataset):\n",
    "    def __init__(self, feather_path, tokenizer):\n",
    "        self.data = pd.read_feather(feather_path)\n",
    "        if tokenizer.pad_token is None:\n",
    "            tokenizer.add_special_tokens({'pad_token': '[PAD]'})\n",
    "        self.tokenizer = tokenizer\n",
    "\n",
    "    def __len__(self):\n",
    "        return len(self.data)\n",
    "\n",
    "    def __getitem__(self, idx):\n",
    "        instance = self.data.iloc[idx]\n",
    "        # language = self.tokenizer(instance[\"language\"], return_tensors='pt')\n",
    "        # problem = self.tokenizer(instance[\"language\"] + \"::\" + instance[\"problem_statement\"], max_length=1028, padding='max_length', truncation=True, return_tensors='pt')\n",
    "        # code_solution = self.tokenizer(instance[\"solution\"], max_length=1028, padding='max_length', truncation=True, return_tensors='pt')\n",
    "\n",
    "        problem = self.tokenizer(instance[\"language\"] + \"::\" + instance[\"problem_statement\"], return_tensors='pt')\n",
    "        code_solution = self.tokenizer(instance[\"solution\"], return_tensors='pt')\n",
    "\n",
    "        return instance['problem_id'], problem, code_solution"
   ]
  },
  {
   "cell_type": "code",
   "execution_count": 5,
   "metadata": {},
   "outputs": [
    {
     "name": "stderr",
     "output_type": "stream",
     "text": [
      "Using pad_token, but it is not set yet.\n"
     ]
    }
   ],
   "source": [
    "tokenizer = GPT2Tokenizer.from_pretrained('gpt2-large')\n",
    "model = GPT2Model.from_pretrained('gpt2-large')"
   ]
  },
  {
   "cell_type": "code",
   "execution_count": 20,
   "metadata": {},
   "outputs": [],
   "source": [
    "cnds = CodeNetDataset('../mini_codenet/data/split/pretrain_train.ftr', tokenizer)"
   ]
  },
  {
   "cell_type": "code",
   "execution_count": 28,
   "metadata": {},
   "outputs": [
    {
     "name": "stdout",
     "output_type": "stream",
     "text": [
      "p02936\n",
      "torch.Size([1, 663])\n",
      "torch.Size([1, 187])\n"
     ]
    },
    {
     "data": {
      "text/html": [
       "<div>\n",
       "<style scoped>\n",
       "    .dataframe tbody tr th:only-of-type {\n",
       "        vertical-align: middle;\n",
       "    }\n",
       "\n",
       "    .dataframe tbody tr th {\n",
       "        vertical-align: top;\n",
       "    }\n",
       "\n",
       "    .dataframe thead th {\n",
       "        text-align: right;\n",
       "    }\n",
       "</style>\n",
       "<table border=\"1\" class=\"dataframe\">\n",
       "  <thead>\n",
       "    <tr style=\"text-align: right;\">\n",
       "      <th></th>\n",
       "      <th>problem_id</th>\n",
       "      <th>input_shape</th>\n",
       "      <th>output_shape</th>\n",
       "    </tr>\n",
       "  </thead>\n",
       "  <tbody>\n",
       "    <tr>\n",
       "      <th>0</th>\n",
       "      <td>p02936</td>\n",
       "      <td>(1, 663)</td>\n",
       "      <td>(1, 187)</td>\n",
       "    </tr>\n",
       "  </tbody>\n",
       "</table>\n",
       "</div>"
      ],
      "text/plain": [
       "  problem_id input_shape output_shape\n",
       "0     p02936    (1, 663)     (1, 187)"
      ]
     },
     "execution_count": 28,
     "metadata": {},
     "output_type": "execute_result"
    }
   ],
   "source": [
    "n, p, s = cnds[0]\n",
    "print(n)\n",
    "print(p.input_ids.shape)\n",
    "print(s.input_ids.shape)\n",
    "arr = []\n",
    "arr.append([n,p.input_ids.shape,s.input_ids.shape])\n",
    "test_df = pd.DataFrame(arr, columns=['problem_id','input_shape','output_shape'])\n",
    "test_df.head()"
   ]
  },
  {
   "cell_type": "code",
   "execution_count": 11,
   "metadata": {},
   "outputs": [
    {
     "name": "stdout",
     "output_type": "stream",
     "text": [
      "['.gitkeep', 'evaluate_test.ftr', 'evaluate_train.ftr', 'evaluate_val.ftr', 'pretrain_test.ftr', 'pretrain_train.ftr', 'pretrain_val.ftr', 'reward_test.ftr', 'reward_train.ftr', 'reward_val.ftr']\n"
     ]
    }
   ],
   "source": [
    "#print(os.listdir('../mini_codenet/data/split/'))"
   ]
  },
  {
   "cell_type": "code",
   "execution_count": 29,
   "metadata": {},
   "outputs": [
    {
     "name": "stdout",
     "output_type": "stream",
     "text": [
      "0 evaluate_test.ftr\n"
     ]
    },
    {
     "name": "stderr",
     "output_type": "stream",
     "text": [
      "100%|██████████| 190378/190378 [15:55<00:00, 199.24it/s]\n"
     ]
    },
    {
     "name": "stdout",
     "output_type": "stream",
     "text": [
      "  problem_id input_shape output_shape\n",
      "0     p02936    (1, 663)     (1, 187)\n",
      "1     p02936    (1, 663)     (1, 255)\n",
      "2     p02936    (1, 663)     (1, 273)\n",
      "3     p02936    (1, 663)     (1, 340)\n",
      "4     p02936    (1, 664)     (1, 541)\n",
      "1 evaluate_train.ftr\n"
     ]
    },
    {
     "name": "stderr",
     "output_type": "stream",
     "text": [
      "100%|██████████| 1332650/1332650 [2:04:54<00:00, 177.81it/s]  \n"
     ]
    },
    {
     "name": "stdout",
     "output_type": "stream",
     "text": [
      "  problem_id input_shape output_shape\n",
      "0     p02700    (1, 362)     (1, 181)\n",
      "1     p02700    (1, 362)     (1, 503)\n",
      "2     p02700    (1, 361)     (1, 110)\n",
      "3     p02700    (1, 362)     (1, 815)\n",
      "4     p02700    (1, 362)    (1, 1554)\n",
      "2 evaluate_val.ftr\n"
     ]
    },
    {
     "name": "stderr",
     "output_type": "stream",
     "text": [
      "100%|██████████| 380757/380757 [35:35<00:00, 178.30it/s] \n"
     ]
    },
    {
     "name": "stdout",
     "output_type": "stream",
     "text": [
      "  problem_id input_shape output_shape\n",
      "0     p02418    (1, 228)     (1, 308)\n",
      "1     p02418    (1, 227)     (1, 159)\n",
      "2     p02418    (1, 227)      (1, 51)\n",
      "3     p02418    (1, 227)     (1, 692)\n",
      "4     p02418    (1, 227)      (1, 53)\n",
      "3 pretrain_test.ftr\n"
     ]
    },
    {
     "name": "stderr",
     "output_type": "stream",
     "text": [
      "100%|██████████| 2884/2884 [00:11<00:00, 244.78it/s]\n"
     ]
    },
    {
     "name": "stdout",
     "output_type": "stream",
     "text": [
      "  problem_id input_shape output_shape\n",
      "0     p02659    (1, 220)      (1, 68)\n",
      "1     p02659    (1, 220)      (1, 44)\n",
      "2     p02659    (1, 220)      (1, 66)\n",
      "3     p02659    (1, 220)      (1, 45)\n",
      "4     p02659    (1, 220)      (1, 83)\n",
      "4 pretrain_train.ftr\n"
     ]
    },
    {
     "name": "stderr",
     "output_type": "stream",
     "text": [
      "100%|██████████| 20192/20192 [01:25<00:00, 236.14it/s]\n"
     ]
    },
    {
     "name": "stdout",
     "output_type": "stream",
     "text": [
      "  problem_id input_shape output_shape\n",
      "0     p02659    (1, 221)    (1, 1204)\n",
      "1     p02659    (1, 220)      (1, 24)\n",
      "2     p02659    (1, 221)     (1, 111)\n",
      "3     p02659    (1, 220)      (1, 28)\n",
      "4     p02659    (1, 221)     (1, 135)\n",
      "5 pretrain_val.ftr\n"
     ]
    },
    {
     "name": "stderr",
     "output_type": "stream",
     "text": [
      "100%|██████████| 5769/5769 [00:50<00:00, 114.97it/s]\n"
     ]
    },
    {
     "name": "stdout",
     "output_type": "stream",
     "text": [
      "  problem_id input_shape output_shape\n",
      "0     p03221    (1, 518)     (1, 636)\n",
      "1     p03221    (1, 517)     (1, 358)\n",
      "2     p03221    (1, 518)     (1, 852)\n",
      "3     p03221    (1, 518)     (1, 605)\n",
      "4     p03221    (1, 517)     (1, 217)\n",
      "6 reward_test.ftr\n"
     ]
    },
    {
     "name": "stderr",
     "output_type": "stream",
     "text": [
      "100%|██████████| 95189/95189 [08:57<00:00, 177.17it/s]\n"
     ]
    },
    {
     "name": "stdout",
     "output_type": "stream",
     "text": [
      "  problem_id input_shape output_shape\n",
      "0     p03916    (1, 651)    (1, 1100)\n",
      "1     p03916    (1, 651)    (1, 1580)\n",
      "2     p03916    (1, 651)     (1, 960)\n",
      "3     p03916    (1, 651)     (1, 576)\n",
      "4     p03916    (1, 651)     (1, 382)\n",
      "7 reward_train.ftr\n"
     ]
    },
    {
     "name": "stderr",
     "output_type": "stream",
     "text": [
      "100%|██████████| 666324/666324 [59:12<00:00, 187.55it/s]  \n"
     ]
    },
    {
     "name": "stdout",
     "output_type": "stream",
     "text": [
      "  problem_id input_shape output_shape\n",
      "0     p03644    (1, 305)      (1, 59)\n",
      "1     p03644    (1, 305)      (1, 78)\n",
      "2     p03644    (1, 305)     (1, 100)\n",
      "3     p03644    (1, 305)     (1, 159)\n",
      "4     p03644    (1, 305)     (1, 235)\n",
      "8 reward_val.ftr\n"
     ]
    },
    {
     "name": "stderr",
     "output_type": "stream",
     "text": [
      "100%|██████████| 190379/190379 [18:02<00:00, 175.92it/s]\n"
     ]
    },
    {
     "name": "stdout",
     "output_type": "stream",
     "text": [
      "  problem_id input_shape output_shape\n",
      "0     p03053    (1, 371)     (1, 999)\n",
      "1     p03053    (1, 370)     (1, 393)\n",
      "2     p03053    (1, 371)    (1, 1022)\n",
      "3     p03053    (1, 370)     (1, 372)\n",
      "4     p03053    (1, 370)    (1, 7815)\n"
     ]
    }
   ],
   "source": [
    "filenames = os.listdir('../mini_codenet/data/split/')\n",
    "# get all of the encoding lengths for a file\n",
    "i = 0\n",
    "for filename in filenames:\n",
    "    if filename != '.gitkeep':\n",
    "        cnds = CodeNetDataset(f'../mini_codenet/data/split/{filename}', tokenizer)\n",
    "        print(i, filename)\n",
    "        array = []\n",
    "        #array.append(['problem_id','input_shape','output_shape'])\n",
    "        for batch in tqdm(cnds):\n",
    "            n, p, s = batch\n",
    "            array.append([n, p.input_ids.shape, s.input_ids.shape])\n",
    "    \n",
    "        df = pd.DataFrame(array, columns=['problem_id','input_shape','output_shape'])\n",
    "        print(df.head())\n",
    "        df.reset_index(inplace=True)\n",
    "        df.to_feather(f\"./encoding_analysis/{filename}\")\n",
    "        i += 1\n"
   ]
  },
  {
   "cell_type": "code",
   "execution_count": 21,
   "metadata": {},
   "outputs": [
    {
     "name": "stderr",
     "output_type": "stream",
     "text": [
      "100%|██████████| 190378/190378 [18:58<00:00, 167.22it/s]  "
     ]
    },
    {
     "name": "stdout",
     "output_type": "stream",
     "text": [
      "1465\n",
      "293127\n"
     ]
    },
    {
     "name": "stderr",
     "output_type": "stream",
     "text": [
      "\n"
     ]
    }
   ],
   "source": [
    "# get the max len of all tokenizations\n",
    "# this cell takes around 20 minutes\n",
    "maxlen_i = 0\n",
    "maxlen_j = 0\n",
    "for i, j in tqdm(cnds):\n",
    "    bi, wi = i.input_ids.shape\n",
    "    bj, wj = j.input_ids.shape\n",
    "\n",
    "    if wi > maxlen_i:\n",
    "        maxlen_i = wi\n",
    "\n",
    "    if wj > maxlen_j:\n",
    "        maxlen_j = wj\n",
    "\n",
    "print(maxlen_i)\n",
    "print(maxlen_j)"
   ]
  },
  {
   "cell_type": "code",
   "execution_count": 51,
   "metadata": {},
   "outputs": [
    {
     "name": "stdout",
     "output_type": "stream",
     "text": [
      "0 torch.Size([10, 1, 1028])\n"
     ]
    }
   ],
   "source": [
    "\n",
    "dl = DataLoader(cnds, batch_size=10, shuffle=True)\n",
    "for i, batch in enumerate(dl):\n",
    "    print(i, batch[1].input_ids.shape)\n",
    "    break"
   ]
  }
 ],
 "metadata": {
  "kernelspec": {
   "display_name": "Python 3",
   "language": "python",
   "name": "python3"
  },
  "language_info": {
   "codemirror_mode": {
    "name": "ipython",
    "version": 3
   },
   "file_extension": ".py",
   "mimetype": "text/x-python",
   "name": "python",
   "nbconvert_exporter": "python",
   "pygments_lexer": "ipython3",
   "version": "3.10.0"
  }
 },
 "nbformat": 4,
 "nbformat_minor": 2
}
