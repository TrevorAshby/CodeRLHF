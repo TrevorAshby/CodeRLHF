{
 "cells": [
  {
   "cell_type": "code",
   "execution_count": 25,
   "metadata": {},
   "outputs": [],
   "source": [
    "import torch\n",
    "import pandas as pd\n",
    "import numpy as np\n",
    "from torch.utils.data import Dataset, DataLoader \n",
    "import transformers\n",
    "from transformers import GPT2Tokenizer, GPT2Model\n",
    "from tqdm import tqdm\n",
    "import os"
   ]
  },
  {
   "cell_type": "code",
   "execution_count": 29,
   "metadata": {},
   "outputs": [
    {
     "data": {
      "text/html": [
       "<div>\n",
       "<style scoped>\n",
       "    .dataframe tbody tr th:only-of-type {\n",
       "        vertical-align: middle;\n",
       "    }\n",
       "\n",
       "    .dataframe tbody tr th {\n",
       "        vertical-align: top;\n",
       "    }\n",
       "\n",
       "    .dataframe thead th {\n",
       "        text-align: right;\n",
       "    }\n",
       "</style>\n",
       "<table border=\"1\" class=\"dataframe\">\n",
       "  <thead>\n",
       "    <tr style=\"text-align: right;\">\n",
       "      <th></th>\n",
       "      <th>level_0</th>\n",
       "      <th>index</th>\n",
       "      <th>submission_id</th>\n",
       "      <th>problem_id</th>\n",
       "      <th>language</th>\n",
       "      <th>filename_ext</th>\n",
       "      <th>status</th>\n",
       "      <th>cpu_time</th>\n",
       "      <th>memory</th>\n",
       "      <th>code_size</th>\n",
       "      <th>accuracy</th>\n",
       "      <th>solution</th>\n",
       "      <th>problem_statement</th>\n",
       "    </tr>\n",
       "  </thead>\n",
       "  <tbody>\n",
       "    <tr>\n",
       "      <th>0</th>\n",
       "      <td>2016842</td>\n",
       "      <td>19846</td>\n",
       "      <td>s534157776</td>\n",
       "      <td>p03038</td>\n",
       "      <td>C++</td>\n",
       "      <td>cpp</td>\n",
       "      <td>Compile Error</td>\n",
       "      <td>NaN</td>\n",
       "      <td>NaN</td>\n",
       "      <td>1191</td>\n",
       "      <td>None</td>\n",
       "      <td>//Keep working hard :)\\n#include &lt;bits/stdc++....</td>\n",
       "      <td>Score : 400 points \\n Problem Statement You ha...</td>\n",
       "    </tr>\n",
       "    <tr>\n",
       "      <th>1</th>\n",
       "      <td>485429</td>\n",
       "      <td>3052</td>\n",
       "      <td>s847351877</td>\n",
       "      <td>p02762</td>\n",
       "      <td>C++</td>\n",
       "      <td>cpp</td>\n",
       "      <td>Accepted</td>\n",
       "      <td>130.0</td>\n",
       "      <td>4352.0</td>\n",
       "      <td>2522</td>\n",
       "      <td>None</td>\n",
       "      <td>#include &lt;bits/stdc++.h&gt;\\nusing namespace std;...</td>\n",
       "      <td>Score : 400 points \\n Problem Statement An SNS...</td>\n",
       "    </tr>\n",
       "    <tr>\n",
       "      <th>2</th>\n",
       "      <td>2613417</td>\n",
       "      <td>1022</td>\n",
       "      <td>s183365047</td>\n",
       "      <td>p02555</td>\n",
       "      <td>C++</td>\n",
       "      <td>cpp</td>\n",
       "      <td>Accepted</td>\n",
       "      <td>18.0</td>\n",
       "      <td>3552.0</td>\n",
       "      <td>747</td>\n",
       "      <td>None</td>\n",
       "      <td>#include &lt;bits/stdc++.h&gt;\\n// #include &lt;atcoder...</td>\n",
       "      <td>Score : 400 points \\n Problem Statement Given ...</td>\n",
       "    </tr>\n",
       "    <tr>\n",
       "      <th>3</th>\n",
       "      <td>2277210</td>\n",
       "      <td>4041</td>\n",
       "      <td>s610113411</td>\n",
       "      <td>p03315</td>\n",
       "      <td>Python</td>\n",
       "      <td>py</td>\n",
       "      <td>Accepted</td>\n",
       "      <td>17.0</td>\n",
       "      <td>2940.0</td>\n",
       "      <td>102</td>\n",
       "      <td>None</td>\n",
       "      <td>S=list(input())\\nans=0\\nfor i in range(len(S))...</td>\n",
       "      <td>Score : 100 points \\n Problem Statement There ...</td>\n",
       "    </tr>\n",
       "    <tr>\n",
       "      <th>4</th>\n",
       "      <td>2456464</td>\n",
       "      <td>5347</td>\n",
       "      <td>s811377587</td>\n",
       "      <td>p03470</td>\n",
       "      <td>C++</td>\n",
       "      <td>cpp</td>\n",
       "      <td>Accepted</td>\n",
       "      <td>1.0</td>\n",
       "      <td>256.0</td>\n",
       "      <td>290</td>\n",
       "      <td>None</td>\n",
       "      <td>#include &lt;bits/stdc++.h&gt;\\nusing namespace std;...</td>\n",
       "      <td>Score : 200 points \\n Problem Statement An X -...</td>\n",
       "    </tr>\n",
       "  </tbody>\n",
       "</table>\n",
       "</div>"
      ],
      "text/plain": [
       "   level_0  index submission_id problem_id language filename_ext  \\\n",
       "0  2016842  19846    s534157776     p03038      C++          cpp   \n",
       "1   485429   3052    s847351877     p02762      C++          cpp   \n",
       "2  2613417   1022    s183365047     p02555      C++          cpp   \n",
       "3  2277210   4041    s610113411     p03315   Python           py   \n",
       "4  2456464   5347    s811377587     p03470      C++          cpp   \n",
       "\n",
       "          status  cpu_time  memory  code_size accuracy  \\\n",
       "0  Compile Error       NaN     NaN       1191     None   \n",
       "1       Accepted     130.0  4352.0       2522     None   \n",
       "2       Accepted      18.0  3552.0        747     None   \n",
       "3       Accepted      17.0  2940.0        102     None   \n",
       "4       Accepted       1.0   256.0        290     None   \n",
       "\n",
       "                                            solution  \\\n",
       "0  //Keep working hard :)\\n#include <bits/stdc++....   \n",
       "1  #include <bits/stdc++.h>\\nusing namespace std;...   \n",
       "2  #include <bits/stdc++.h>\\n// #include <atcoder...   \n",
       "3  S=list(input())\\nans=0\\nfor i in range(len(S))...   \n",
       "4  #include <bits/stdc++.h>\\nusing namespace std;...   \n",
       "\n",
       "                                   problem_statement  \n",
       "0  Score : 400 points \\n Problem Statement You ha...  \n",
       "1  Score : 400 points \\n Problem Statement An SNS...  \n",
       "2  Score : 400 points \\n Problem Statement Given ...  \n",
       "3  Score : 100 points \\n Problem Statement There ...  \n",
       "4  Score : 200 points \\n Problem Statement An X -...  "
      ]
     },
     "execution_count": 29,
     "metadata": {},
     "output_type": "execute_result"
    }
   ],
   "source": [
    "data = pd.read_feather('../mini_codenet/data/split/finetune_test.ftr')\n",
    "data.head()"
   ]
  },
  {
   "cell_type": "code",
   "execution_count": 30,
   "metadata": {},
   "outputs": [
    {
     "data": {
      "text/plain": [
       "'//Keep working hard :)\\n#include <bits/stdc++.h>\\nusing namespace std;\\n\\n#define IOS ios::sync_with_stdio(0); cin.tie(0); cout.tie(0);\\n#define int long long\\n\\nvoid fileIO()\\n{\\n        #ifndef ONLINE_JUDGE\\n        freopen(\"int.txt\",\"r\",stdin);\\n        freopen(\"out.txt\",\"w\",stdout);\\n        #endif\\n}\\nint main()\\n{\\n\\tIOS;\\n       // fileIO();\\n        multiset<int> s;\\n        int n,m;\\n        cin >> n >> m;\\n        for(int i = 0; i < n; i++)\\n        {\\n                int x;\\n                cin >> x;\\n                s.insert(x);\\n        }\\n        for(int i = 0; i < m; i++)\\n        {\\n                int b,c;\\n                cin >> b >> c;\\n                for(int j = 0; j < b; j++)\\n                {\\n                        auto it = s.begin();\\n                        if(*it < c)\\n                        {\\n                                s.erase(it);\\n                                s.insert(c);\\n                        }\\n                        else\\n                        {\\n                                break;\\n                        }\\n                }\\n        }\\n        ll temp = 0;\\n        for(auto i : s)\\n        {\\n                temp += i;\\n        }\\n        cout << temp;\\n\\treturn 0;\\n}\\n'"
      ]
     },
     "execution_count": 30,
     "metadata": {},
     "output_type": "execute_result"
    }
   ],
   "source": [
    "data.iloc[0][\"solution\"]"
   ]
  },
  {
   "cell_type": "code",
   "execution_count": 31,
   "metadata": {},
   "outputs": [
    {
     "name": "stdout",
     "output_type": "stream",
     "text": [
      "{'p02402', 'p03316', 'p03104', 'p02995', 'p02969', 'p03464', 'p03129', 'p02612', 'p03846', 'p03795', 'p02957', 'p02400', 'p03440', 'p03012', 'p03254', 'p02827', 'p02920', 'p03618', 'p03473', 'p02470', 'p02923', 'p03424', 'p02777', 'p02846', 'p02579', 'p04002', 'p03109', 'p03498', 'p02379', 'p02577', 'p02798', 'p03047', 'p03487', 'p03183', 'p03272', 'p02734', 'p03714', 'p02949', 'p03315', 'p03297', 'p02708', 'p03055', 'p03180', 'p02939', 'p03034', 'p03081', 'p03434', 'p02891', 'p02748', 'p03760', 'p02693', 'p02615', 'p03715', 'p02641', 'p03659', 'p03404', 'p03575', 'p02661', 'p03103', 'p02264', 'p03937', 'p02765', 'p03026', 'p02678', 'p03526', 'p03988', 'p02717', 'p03472', 'p00914', 'p03770', 'p03369', 'p03045', 'p02354', 'p02581', 'p03796', 'p03378', 'p02835', 'p03011', 'p00750', 'p02392', 'p02775', 'p03408', 'p03660', 'p03251', 'p02850', 'p04037', 'p00738', 'p03075', 'p02781', 'p03063', 'p00746', 'p02762', 'p02866', 'p02686', 'p00723', 'p02856', 'p03780', 'p00001', 'p02861', 'p02088', 'p03339', 'p00024', 'p02241', 'p03290', 'p02233', 'p03054', 'p02631', 'p03603', 'p02860', 'p03677', 'p03007', 'p02767', 'p03450', 'p03653', 'p00615', 'p03829', 'p03013', 'p02410', 'p03370', 'p03102', 'p02887', 'p03479', 'p02927', 'p03221', 'p04010', 'p03910', 'p03095', 'p03096', 'p02617', 'p03373', 'p03785', 'p03391', 'p02404', 'p03597', 'p02981', 'p00009', 'p03725', 'p02945', 'p02726', 'p03923', 'p02646', 'p02950', 'p03220', 'p03164', 'p03056', 'p02360', 'p01421', 'p00894', 'p02675', 'p03852', 'p03502', 'p03712', 'p03624', 'p00000', 'p03889', 'p03280', 'p02563', 'p03372', 'p02585', 'p03722', 'p04051', 'p00357', 'p03263', 'p00560', 'p02956', 'p03171', 'p03038', 'p03394', 'p02913', 'p02886', 'p03641', 'p03644', 'p03238', 'p03262', 'p03847', 'p02651', 'p04041', 'p04031', 'p03551', 'p03327', 'p02865', 'p03573', 'p03285', 'p03304', 'p03176', 'p02664', 'p02700', 'p02420', 'p02851', 'p02606', 'p03340', 'p03247', 'p02628', 'p03460', 'p02682', 'p04029', 'p03680', 'p03987', 'p03082', 'p02803', 'p03533', 'p03087', 'p04043', 'p02912', 'p03776', 'p03328', 'p00028', 'p01214', 'p02657', 'p00102', 'p03107', 'p03201', 'p03017', 'p02839', 'p03701', 'p03970', 'p03241', 'p00950', 'p04027', 'p03497', 'p02266', 'p02837', 'p01102', 'p03996', 'p02389', 'p02619', 'p02836', 'p03302', 'p03219', 'p02553', 'p00717', 'p00760', 'p03455', 'p04047', 'p03448', 'p02729', 'p02926', 'p03547', 'p02930', 'p02694', 'p04012', 'p03351', 'p02681', 'p02262', 'p03682', 'p03605', 'p03170', 'p03197', 'p00100', 'p02630', 'p02759', 'p02756', 'p03406', 'p03449', 'p03841', 'p00649', 'p02598', 'p02978', 'p00773', 'p03952', 'p02602', 'p03359', 'p03073', 'p02711', 'p03501', 'p02974', 'p03186', 'p02702', 'p02608', 'p00861', 'p03420', 'p03267', 'p03814', 'p03317', 'p02871', 'p03437', 'p03265', 'p03006', 'p03293', 'p03525', 'p00376', 'p00683', 'p02894', 'p04033', 'p02578', 'p02624', 'p03137', 'p03209', 'p03425', 'p03338', 'p02802', 'p03039', 'p02396', 'p04048', 'p03071', 'p02633', 'p02793', 'p03826', 'p03773', 'p02257', 'p03769', 'p03685', 'p02826', 'p02778', 'p02922', 'p03544', 'p03812', 'p03135', 'p02640', 'p03246', 'p00780', 'p03995', 'p03309', 'p02853', 'p03168', 'p02648', 'p02990', 'p03631', 'p03493', 'p02413', 'p03662', 'p03053', 'p02963', 'p02933', 'p02787', 'p04005', 'p04044', 'p03157', 'p02937', 'p03240', 'p02796', 'p02723', 'p03980', 'p03494', 'p02955', 'p02813', 'p00005', 'p02925', 'p02848', 'p02547', 'p02280', 'p02550', 'p04049', 'p03720', 'p02720', 'p02393', 'p03414', 'p00762', 'p03561', 'p02952', 'p02867', 'p01677', 'p02760', 'p02761', 'p03387', 'p00011', 'p03442', 'p03330', 'p03775', 'p03674', 'p02719', 'p02773', 'p02281', 'p03636', 'p03650', 'p03215', 'p03248', 'p02690', 'p02415', 'p02574', 'p03944', 'p00868', 'p02572', 'p02838', 'p03857', 'p03308', 'p03828', 'p02263', 'p03227', 'p02958', 'p02819', 'p03577', 'p03042', 'p02709', 'p03233', 'p03583', 'p02408', 'p03735', 'p02556', 'p03138', 'p03503', 'p03695', 'p03639', 'p02576', 'p03311', 'p00021', 'p03256', 'p03819', 'p02255', 'p02584', 'p03658', 'p02929', 'p03288', 'p03965', 'p02788', 'p02905', 'p02289', 'p02855', 'p02677', 'p00811', 'p03030', 'p03044', 'p03085', 'p02705', 'p03943', 'p02973', 'p02642', 'p03029', 'p02900', 'p02951', 'p03679', 'p02391', 'p02890', 'p00007', 'p00364', 'p02859', 'p02766', 'p02993', 'p04021', 'p02317', 'p03417', 'p03721', 'p02403', 'p03207', 'p02753', 'p03711', 'p02771', 'p03059', 'p02250', 'p03190', 'p02244', 'p02294', 'p02613', 'p02959', 'p02791', 'p03698', 'p03700', 'p04045', 'p02315', 'p02557', 'p03436', 'p03386', 'p03960', 'p03178', 'p03453', 'p02774', 'p02947', 'p03705', 'p02916', 'p03261', 'p02971', 'p03239', 'p03606', 'p03789', 'p02889', 'p03334', 'p02792', 'p02829', 'p02728', 'p03999', 'p03255', 'p03214', 'p03018', 'p03230', 'p02842', 'p03385', 'p02583', 'p03111', 'p03614', 'p02845', 'p02680', 'p03834', 'p03048', 'p03161', 'p02645', 'p03781', 'p03556', 'p02743', 'p03474', 'p03149', 'p03072', 'p04030', 'p02665', 'p04014', 'p02733', 'p02852', 'p03854', 'p03808', 'p02940', 'p03273', 'p03843', 'p02235', 'p02555', 'p03921', 'p02897', 'p03080', 'p02590', 'p03697', 'p03963', 'p03767', 'p03992', 'p03418', 'p03337', 'p02639', 'p03568', 'p03160', 'p03456', 'p03593', 'p03323', 'p03399', 'p02713', 'p03459', 'p03125', 'p02388', 'p03469', 'p03128', 'p02552', 'p03363', 'p03713', 'p03611', 'p03429', 'p00020', 'p03173', 'p02996', 'p02727', 'p03596', 'p02757', 'p02812', 'p02794', 'p03260', 'p03200', 'p03552', 'p01457', 'p03598', 'p02277', 'p03208', 'p03312', 'p03719', 'p02406', 'p03409', 'p02684', 'p03607', 'p03249', 'p03665', 'p03920', 'p02801', 'p02983', 'p03253', 'p02692', 'p03068', 'p02658', 'p03426', 'p03649', 'p02834', 'p02595', 'p04016', 'p02825', 'p00008', 'p02364', 'p02270', 'p02582', 'p02549', 'p02575', 'p03210', 'p03499', 'p02422', 'p03067', 'p02629', 'p02821', 'p03110', 'p03428', 'p02401', 'p03175', 'p02881', 'p02607', 'p03627', 'p02754', 'p03035', 'p03390', 'p02820', 'p04003', 'p02405', 'p03416', 'p00729', 'p03242', 'p04006', 'p02843', 'p03612', 'p03475', 'p03077', 'p02268', 'p02755', 'p03788', 'p02928', 'p03037', 'p02780', 'p03150', 'p02863', 'p03486', 'p03566', 'p03097', 'p03105', 'p02669', 'p02782', 'p02768', 'p02732', 'p02789', 'p04035', 'p03496', 'p02468', 'p02823', 'p02935', 'p03635', 'p03786', 'p00004', 'p03196', 'p03878', 'p02989', 'p02599', 'p02614', 'p03145', 'p03088', 'p02409', 'p03422', 'p03447', 'p02272', 'p03567', 'p02987', 'p03774', 'p02601', 'p03292', 'p03033', 'p02844', 'p03793', 'p02804', 'p02814', 'p02946', 'p03141', 'p03155', 'p04000', 'p02683', 'p02885', 'p03243', 'p02972', 'p03194', 'p02237', 'p02622', 'p02884', 'p02833', 'p02621', 'p03159', 'p02623', 'p03130', 'p03997', 'p02258', 'p02412', 'p03224', 'p00002', 'p03617', 'p03592', 'p03252', 'p03699', 'p03466', 'p02988', 'p03797', 'p03074', 'p02899', 'p03998', 'p02915', 'p02666', 'p03667', 'p03634', 'p03140', 'p03342', 'p03319', 'p02953', 'p02908', 'p03835', 'p03362', 'p03689', 'p02747', 'p02879', 'p04040', 'p03971', 'p04020', 'p03836', 'p03411', 'p03061', 'p02919', 'p02831', 'p03076', 'p03181', 'p02411', 'p02724', 'p02911', 'p02964', 'p03818', 'p03281', 'p02783', 'p02742', 'p02603', 'p03690', 'p00353', 'p03866', 'p02744', 'p02626', 'p02736', 'p03801', 'p02276', 'p03564', 'p02936', 'p03505', 'p02817', 'p03911', 'p03172', 'p02721', 'p00907', 'p02868', 'p03492', 'p03673', 'p00018', 'p02904', 'p03590', 'p02862', 'p03457', 'p03324', 'p00012', 'p03069', 'p04034', 'p03620', 'p03844', 'p02994', 'p03163', 'p02609', 'p02882', 'p03041', 'p02269', 'p03050', 'p03291', 'p03380', 'p02840', 'p02811', 'p03838', 'p03763', 'p03166', 'p00106', 'p03089', 'p03423', 'p00003', 'p00748', 'p02472', 'p02880', 'p03231', 'p03439', 'p02998', 'p03703', 'p03803', 'p03353', 'p02546', 'p03106', 'p02259', 'p03274', 'p02647', 'p03633', 'p03264', 'p02260', 'p04011', 'p03377', 'p03528', 'p02300', 'p03352', 'p03329', 'p02570', 'p03314', 'p03661', 'p02712', 'p00823', 'p03244', 'p02267', 'p02763', 'p03957', 'p02696', 'p03666', 'p03461', 'p02725', 'p02293', 'p03310', 'p03865', 'p02730', 'p02703', 'p03294', 'p02644', 'p02718', 'p03557', 'p03307', 'p03393', 'p03862', 'p03845', 'p00594', 'p03654', 'p03738', 'p03283', 'p03625', 'p03683', 'p02275', 'p00355', 'p02247', 'p03062', 'p03723', 'p03356', 'p02687', 'p03433', 'p03482', 'p02818', 'p03837', 'p03148', 'p03126', 'p02960', 'p02660', 'p03563', 'p00910', 'p03779', 'p03672', 'p03478', 'p04017', 'p02534', 'p03392', 'p00637', 'p04019', 'p02830', 'p01294', 'p03565', 'p02706', 'p02832', 'p03212', 'p04039', 'p02618', 'p02397', 'p03687', 'p01676', 'p02676', 'p03060', 'p02261', 'p03693', 'p02597', 'p03861', 'p03371', 'p02691', 'p02383', 'p02381', 'p03609', 'p00740', 'p02594', 'p02962', 'p02288', 'p03555', 'p03049', 'p02710', 'p02784', 'p03365', 'p02627', 'p00025', 'p03185', 'p02271', 'p00354', 'p03761', 'p04028', 'p03608', 'p03284', 'p03470', 'p03632', 'p02917', 'p03806', 'p02278', 'p02976', 'p03355', 'p03032', 'p00763', 'p03354', 'p02824', 'p03051', 'p04001', 'p02873', 'p03361', 'p02685', 'p02883', 'p03585', 'p02679', 'p03476', 'p02854', 'p02596', 'p02815', 'p03678', 'p02414', 'p02345', 'p02970', 'p03656', 'p01288', 'p04025', 'p03266', 'p03289', 'p02714', 'p02416', 'p02265', 'p03832', 'p03543', 'p02362', 'p02537', 'p03488', 'p03973', 'p03471', 'p03463', 'p00019', 'p03269', 'p03962', 'p02731', 'p03993', 'p03005', 'p02785', 'p02373', 'p03036', 'p03481', 'p03031', 'p02707', 'p03951', 'p03014', 'p02984', 'p03360', 'p03948', 'p02985', 'p03972', 'p03574', 'p03203', 'p03548', 'p03326', 'p02688', 'p02772', 'p03648', 'p02695', 'p03734', 'p03647', 'p02888', 'p03438', 'p00006', 'p03127', 'p03804', 'p03748', 'p02716', 'p03591', 'p02934', 'p03759', 'p03415', 'p03282', 'p00734', 'p02697', 'p02790', 'p02616', 'p03341', 'p03419', 'p02903', 'p03250', 'p03147', 'p03202', 'p03645', 'p03799', 'p00754', 'p02924', 'p03671', 'p03383', 'p00725', 'p03286', 'p02432', 'p03702', 'p03569', 'p03744', 'p02918', 'p02359', 'p03296', 'p00965', 'p02662', 'p02701', 'p02536', 'p02699', 'p03668', 'p02659', 'p02786', 'p02390', 'p02986', 'p02779', 'p03092', 'p02580', 'p03964', 'p02921', 'p02954', 'p03485', 'p02938', 'p02544', 'p03599', 'p03195', 'p02370', 'p02841', 'p03331', 'p03853', 'p03815', 'p03768', 'p02914', 'p02283', 'p02554', 'p03881', 'p02286', 'p03553', 'p03938', 'p02689', 'p02399', 'p03287', 'p03623', 'p03827', 'p04008', 'p03435', 'p03739', 'p02999', 'p03860', 'p03086', 'p04022', 'p03332', 'p03694', 'p01101', 'p00829', 'p03151', 'p02948', 'p03651', 'p02548', 'p03545', 'p01295', 'p03101', 'p03345', 'p02600', 'p03000', 'p02587', 'p03730', 'p03043', 'p00710', 'p03657', 'p02571', 'p03182', 'p03192', 'p03401', 'p03146', 'p02847', 'p02797', 'p04013', 'p03001', 'p03162', 'p02361', 'p02982', 'p02004', 'p02898', 'p03211', 'p03643', 'p03165', 'p02573', 'p03637', 'p03167', 'p03268', 'p02421', 'p02975', 'p02418', 'p03949', 'p03295', 'p01109', 'p03024'}\n"
     ]
    }
   ],
   "source": [
    "print(set(data['problem_id'].values))"
   ]
  },
  {
   "cell_type": "code",
   "execution_count": 32,
   "metadata": {},
   "outputs": [],
   "source": [
    "coll = []\n",
    "for pid in set(data['problem_id'].values):\n",
    "    yes = data.loc[(data['status'] == 'Accepted') & (data['language'] == 'Python') & (data['problem_id'] == pid)].values\n",
    "    coll.append(yes)"
   ]
  },
  {
   "cell_type": "code",
   "execution_count": 41,
   "metadata": {},
   "outputs": [
    {
     "name": "stdout",
     "output_type": "stream",
     "text": [
      "1081\n",
      "['p02402', 'p03316', 'p02995', 'p03129', 'p02612', 'p02400', 'p03618', 'p02923', 'p03424', 'p03109', 'p02577', 'p03714', 'p03315', 'p02939', 'p03434', 'p03760', 'p02693', 'p02641', 'p03575', 'p03103', 'p02765', 'p03026', 'p02678', 'p03472', 'p03045', 'p03796', 'p03378', 'p03011', 'p02392', 'p03075', 'p02781', 'p02856', 'p00001', 'p02861', 'p03339', 'p02860', 'p03013', 'p02410', 'p03370', 'p03102', 'p02887', 'p03479', 'p02404', 'p02981', 'p02726', 'p02646', 'p02950', 'p03220', 'p03164', 'p02675', 'p03852', 'p03502', 'p03624', 'p03372', 'p03171', 'p03394', 'p02886', 'p03644', 'p02700', 'p02851', 'p02628', 'p02682', 'p04029', 'p03987', 'p02803', 'p03087', 'p04043', 'p02912', 'p03776', 'p02657', 'p03107', 'p03970', 'p03241', 'p02837', 'p01102', 'p02389', 'p02619', 'p02836', 'p03455', 'p03448', 'p02729', 'p03547', 'p02694', 'p03351', 'p02681', 'p02262', 'p02759', 'p02598', 'p03359', 'p02711', 'p03501', 'p03186', 'p02608', 'p03814', 'p03317', 'p02871', 'p03265', 'p03525', 'p04033', 'p02578', 'p03209', 'p03425', 'p03338', 'p02802', 'p03071', 'p02793', 'p03773', 'p02778', 'p02922', 'p03544', 'p03135', 'p02640', 'p02933', 'p04005', 'p02796', 'p02723', 'p03494', 'p02547', 'p02280', 'p03720', 'p02720', 'p02952', 'p02760', 'p03387', 'p03330', 'p03775', 'p02719', 'p02773', 'p02690', 'p02572', 'p03308', 'p03828', 'p02263', 'p03227', 'p02958', 'p02819', 'p03577', 'p03042', 'p03138', 'p03695', 'p02576', 'p02255', 'p02584', 'p03658', 'p02677', 'p03030', 'p03044', 'p03085', 'p02705', 'p03943', 'p03029', 'p02900', 'p02951', 'p00007', 'p02317', 'p02403', 'p02753', 'p02771', 'p03059', 'p02959', 'p02791', 'p02315', 'p03386', 'p02774', 'p02947', 'p03705', 'p02916', 'p02971', 'p03239', 'p03606', 'p03999', 'p03214', 'p02842', 'p03111', 'p03048', 'p03161', 'p03556', 'p02743', 'p03474', 'p03149', 'p04030', 'p02665', 'p03854', 'p03080', 'p03697', 'p03418', 'p02639', 'p03456', 'p03593', 'p03323', 'p03399', 'p03125', 'p02388', 'p03128', 'p02812', 'p03598', 'p03719', 'p03409', 'p03607', 'p02801', 'p03068', 'p02658', 'p02821', 'p03110', 'p02401', 'p02607', 'p02754', 'p03035', 'p00729', 'p03242', 'p02843', 'p03475', 'p03105', 'p02789', 'p03635', 'p02599', 'p02614', 'p03447', 'p03567', 'p02987', 'p03774', 'p02601', 'p02946', 'p04000', 'p02683', 'p03243', 'p02972', 'p02622', 'p02621', 'p03997', 'p02258', 'p03592', 'p03252', 'p03797', 'p03074', 'p02899', 'p02915', 'p03140', 'p03835', 'p03362', 'p02879', 'p03971', 'p04020', 'p03836', 'p02411', 'p02724', 'p02911', 'p03818', 'p02783', 'p02603', 'p02817', 'p00018', 'p02862', 'p03844', 'p02994', 'p02882', 'p03380', 'p02811', 'p03763', 'p02472', 'p02880', 'p03803', 'p03353', 'p02546', 'p03106', 'p03377', 'p03329', 'p02712', 'p02696', 'p02718', 'p03307', 'p03862', 'p03738', 'p03723', 'p02687', 'p02818', 'p03563', 'p03779', 'p03672', 'p03478', 'p02830', 'p03565', 'p02706', 'p02832', 'p03212', 'p02618', 'p02676', 'p03060', 'p02261', 'p03693', 'p02597', 'p03861', 'p03371', 'p02383', 'p03609', 'p02594', 'p03555', 'p03049', 'p02784', 'p02627', 'p03608', 'p03284', 'p02824', 'p03361', 'p02596', 'p02416', 'p03543', 'p03463', 'p03962', 'p02785', 'p03036', 'p02707', 'p03951', 'p03548', 'p02688', 'p02888', 'p03127', 'p03759', 'p03419', 'p02903', 'p03250', 'p03645', 'p03286', 'p02701', 'p02699', 'p02659', 'p02390', 'p02779', 'p02370', 'p02841', 'p03853', 'p02689', 'p03623', 'p02999', 'p03086', 'p03694', 'p02948', 'p03651', 'p02548', 'p03545', 'p03345', 'p02600', 'p03730', 'p03043', 'p03657', 'p03192', 'p03146', 'p02847', 'p03001', 'p03162', 'p02982', 'p03167', 'p02975', 'p03024']\n"
     ]
    }
   ],
   "source": [
    "print(len(coll))\n",
    "coll2 = []\n",
    "for col in coll:\n",
    "    if len(col) > 0:\n",
    "        #print(col)\n",
    "        # print(col[0][3])\n",
    "        coll2.append(col[0][3])\n",
    "print(coll2)"
   ]
  },
  {
   "cell_type": "code",
   "execution_count": 4,
   "metadata": {},
   "outputs": [],
   "source": [
    "class CodeNetDataset(Dataset):\n",
    "    def __init__(self, feather_path, tokenizer):\n",
    "        self.data = pd.read_feather(feather_path)\n",
    "        if tokenizer.pad_token is None:\n",
    "            tokenizer.add_special_tokens({'pad_token': '[PAD]'})\n",
    "        self.tokenizer = tokenizer\n",
    "\n",
    "    def __len__(self):\n",
    "        return len(self.data)\n",
    "\n",
    "    def __getitem__(self, idx):\n",
    "        instance = self.data.iloc[idx]\n",
    "        # language = self.tokenizer(instance[\"language\"], return_tensors='pt')\n",
    "        # problem = self.tokenizer(instance[\"language\"] + \"::\" + instance[\"problem_statement\"], max_length=1028, padding='max_length', truncation=True, return_tensors='pt')\n",
    "        # code_solution = self.tokenizer(instance[\"solution\"], max_length=1028, padding='max_length', truncation=True, return_tensors='pt')\n",
    "\n",
    "        problem = self.tokenizer(instance[\"language\"] + \"::\" + instance[\"problem_statement\"], return_tensors='pt')\n",
    "        code_solution = self.tokenizer(instance[\"solution\"], return_tensors='pt')\n",
    "\n",
    "        return instance['problem_id'], problem, code_solution"
   ]
  },
  {
   "cell_type": "code",
   "execution_count": 5,
   "metadata": {},
   "outputs": [
    {
     "name": "stderr",
     "output_type": "stream",
     "text": [
      "Using pad_token, but it is not set yet.\n"
     ]
    }
   ],
   "source": [
    "tokenizer = GPT2Tokenizer.from_pretrained('gpt2-large')\n",
    "model = GPT2Model.from_pretrained('gpt2-large')"
   ]
  },
  {
   "cell_type": "code",
   "execution_count": 20,
   "metadata": {},
   "outputs": [],
   "source": [
    "cnds = CodeNetDataset('../mini_codenet/data/split/pretrain_train.ftr', tokenizer)"
   ]
  },
  {
   "cell_type": "code",
   "execution_count": 28,
   "metadata": {},
   "outputs": [
    {
     "name": "stdout",
     "output_type": "stream",
     "text": [
      "p02936\n",
      "torch.Size([1, 663])\n",
      "torch.Size([1, 187])\n"
     ]
    },
    {
     "data": {
      "text/html": [
       "<div>\n",
       "<style scoped>\n",
       "    .dataframe tbody tr th:only-of-type {\n",
       "        vertical-align: middle;\n",
       "    }\n",
       "\n",
       "    .dataframe tbody tr th {\n",
       "        vertical-align: top;\n",
       "    }\n",
       "\n",
       "    .dataframe thead th {\n",
       "        text-align: right;\n",
       "    }\n",
       "</style>\n",
       "<table border=\"1\" class=\"dataframe\">\n",
       "  <thead>\n",
       "    <tr style=\"text-align: right;\">\n",
       "      <th></th>\n",
       "      <th>problem_id</th>\n",
       "      <th>input_shape</th>\n",
       "      <th>output_shape</th>\n",
       "    </tr>\n",
       "  </thead>\n",
       "  <tbody>\n",
       "    <tr>\n",
       "      <th>0</th>\n",
       "      <td>p02936</td>\n",
       "      <td>(1, 663)</td>\n",
       "      <td>(1, 187)</td>\n",
       "    </tr>\n",
       "  </tbody>\n",
       "</table>\n",
       "</div>"
      ],
      "text/plain": [
       "  problem_id input_shape output_shape\n",
       "0     p02936    (1, 663)     (1, 187)"
      ]
     },
     "execution_count": 28,
     "metadata": {},
     "output_type": "execute_result"
    }
   ],
   "source": [
    "n, p, s = cnds[0]\n",
    "print(n)\n",
    "print(p.input_ids.shape)\n",
    "print(s.input_ids.shape)\n",
    "arr = []\n",
    "arr.append([n,p.input_ids.shape,s.input_ids.shape])\n",
    "test_df = pd.DataFrame(arr, columns=['problem_id','input_shape','output_shape'])\n",
    "test_df.head()"
   ]
  },
  {
   "cell_type": "code",
   "execution_count": 11,
   "metadata": {},
   "outputs": [
    {
     "name": "stdout",
     "output_type": "stream",
     "text": [
      "['.gitkeep', 'evaluate_test.ftr', 'evaluate_train.ftr', 'evaluate_val.ftr', 'pretrain_test.ftr', 'pretrain_train.ftr', 'pretrain_val.ftr', 'reward_test.ftr', 'reward_train.ftr', 'reward_val.ftr']\n"
     ]
    }
   ],
   "source": [
    "#print(os.listdir('../mini_codenet/data/split/'))"
   ]
  },
  {
   "cell_type": "code",
   "execution_count": 29,
   "metadata": {},
   "outputs": [
    {
     "name": "stdout",
     "output_type": "stream",
     "text": [
      "0 evaluate_test.ftr\n"
     ]
    },
    {
     "name": "stderr",
     "output_type": "stream",
     "text": [
      "100%|██████████| 190378/190378 [15:55<00:00, 199.24it/s]\n"
     ]
    },
    {
     "name": "stdout",
     "output_type": "stream",
     "text": [
      "  problem_id input_shape output_shape\n",
      "0     p02936    (1, 663)     (1, 187)\n",
      "1     p02936    (1, 663)     (1, 255)\n",
      "2     p02936    (1, 663)     (1, 273)\n",
      "3     p02936    (1, 663)     (1, 340)\n",
      "4     p02936    (1, 664)     (1, 541)\n",
      "1 evaluate_train.ftr\n"
     ]
    },
    {
     "name": "stderr",
     "output_type": "stream",
     "text": [
      "100%|██████████| 1332650/1332650 [2:04:54<00:00, 177.81it/s]  \n"
     ]
    },
    {
     "name": "stdout",
     "output_type": "stream",
     "text": [
      "  problem_id input_shape output_shape\n",
      "0     p02700    (1, 362)     (1, 181)\n",
      "1     p02700    (1, 362)     (1, 503)\n",
      "2     p02700    (1, 361)     (1, 110)\n",
      "3     p02700    (1, 362)     (1, 815)\n",
      "4     p02700    (1, 362)    (1, 1554)\n",
      "2 evaluate_val.ftr\n"
     ]
    },
    {
     "name": "stderr",
     "output_type": "stream",
     "text": [
      "100%|██████████| 380757/380757 [35:35<00:00, 178.30it/s] \n"
     ]
    },
    {
     "name": "stdout",
     "output_type": "stream",
     "text": [
      "  problem_id input_shape output_shape\n",
      "0     p02418    (1, 228)     (1, 308)\n",
      "1     p02418    (1, 227)     (1, 159)\n",
      "2     p02418    (1, 227)      (1, 51)\n",
      "3     p02418    (1, 227)     (1, 692)\n",
      "4     p02418    (1, 227)      (1, 53)\n",
      "3 pretrain_test.ftr\n"
     ]
    },
    {
     "name": "stderr",
     "output_type": "stream",
     "text": [
      "100%|██████████| 2884/2884 [00:11<00:00, 244.78it/s]\n"
     ]
    },
    {
     "name": "stdout",
     "output_type": "stream",
     "text": [
      "  problem_id input_shape output_shape\n",
      "0     p02659    (1, 220)      (1, 68)\n",
      "1     p02659    (1, 220)      (1, 44)\n",
      "2     p02659    (1, 220)      (1, 66)\n",
      "3     p02659    (1, 220)      (1, 45)\n",
      "4     p02659    (1, 220)      (1, 83)\n",
      "4 pretrain_train.ftr\n"
     ]
    },
    {
     "name": "stderr",
     "output_type": "stream",
     "text": [
      "100%|██████████| 20192/20192 [01:25<00:00, 236.14it/s]\n"
     ]
    },
    {
     "name": "stdout",
     "output_type": "stream",
     "text": [
      "  problem_id input_shape output_shape\n",
      "0     p02659    (1, 221)    (1, 1204)\n",
      "1     p02659    (1, 220)      (1, 24)\n",
      "2     p02659    (1, 221)     (1, 111)\n",
      "3     p02659    (1, 220)      (1, 28)\n",
      "4     p02659    (1, 221)     (1, 135)\n",
      "5 pretrain_val.ftr\n"
     ]
    },
    {
     "name": "stderr",
     "output_type": "stream",
     "text": [
      "100%|██████████| 5769/5769 [00:50<00:00, 114.97it/s]\n"
     ]
    },
    {
     "name": "stdout",
     "output_type": "stream",
     "text": [
      "  problem_id input_shape output_shape\n",
      "0     p03221    (1, 518)     (1, 636)\n",
      "1     p03221    (1, 517)     (1, 358)\n",
      "2     p03221    (1, 518)     (1, 852)\n",
      "3     p03221    (1, 518)     (1, 605)\n",
      "4     p03221    (1, 517)     (1, 217)\n",
      "6 reward_test.ftr\n"
     ]
    },
    {
     "name": "stderr",
     "output_type": "stream",
     "text": [
      "100%|██████████| 95189/95189 [08:57<00:00, 177.17it/s]\n"
     ]
    },
    {
     "name": "stdout",
     "output_type": "stream",
     "text": [
      "  problem_id input_shape output_shape\n",
      "0     p03916    (1, 651)    (1, 1100)\n",
      "1     p03916    (1, 651)    (1, 1580)\n",
      "2     p03916    (1, 651)     (1, 960)\n",
      "3     p03916    (1, 651)     (1, 576)\n",
      "4     p03916    (1, 651)     (1, 382)\n",
      "7 reward_train.ftr\n"
     ]
    },
    {
     "name": "stderr",
     "output_type": "stream",
     "text": [
      "100%|██████████| 666324/666324 [59:12<00:00, 187.55it/s]  \n"
     ]
    },
    {
     "name": "stdout",
     "output_type": "stream",
     "text": [
      "  problem_id input_shape output_shape\n",
      "0     p03644    (1, 305)      (1, 59)\n",
      "1     p03644    (1, 305)      (1, 78)\n",
      "2     p03644    (1, 305)     (1, 100)\n",
      "3     p03644    (1, 305)     (1, 159)\n",
      "4     p03644    (1, 305)     (1, 235)\n",
      "8 reward_val.ftr\n"
     ]
    },
    {
     "name": "stderr",
     "output_type": "stream",
     "text": [
      "100%|██████████| 190379/190379 [18:02<00:00, 175.92it/s]\n"
     ]
    },
    {
     "name": "stdout",
     "output_type": "stream",
     "text": [
      "  problem_id input_shape output_shape\n",
      "0     p03053    (1, 371)     (1, 999)\n",
      "1     p03053    (1, 370)     (1, 393)\n",
      "2     p03053    (1, 371)    (1, 1022)\n",
      "3     p03053    (1, 370)     (1, 372)\n",
      "4     p03053    (1, 370)    (1, 7815)\n"
     ]
    }
   ],
   "source": [
    "filenames = os.listdir('../mini_codenet/data/split/')\n",
    "# get all of the encoding lengths for a file\n",
    "i = 0\n",
    "for filename in filenames:\n",
    "    if filename != '.gitkeep':\n",
    "        cnds = CodeNetDataset(f'../mini_codenet/data/split/{filename}', tokenizer)\n",
    "        print(i, filename)\n",
    "        array = []\n",
    "        #array.append(['problem_id','input_shape','output_shape'])\n",
    "        for batch in tqdm(cnds):\n",
    "            n, p, s = batch\n",
    "            array.append([n, p.input_ids.shape, s.input_ids.shape])\n",
    "    \n",
    "        df = pd.DataFrame(array, columns=['problem_id','input_shape','output_shape'])\n",
    "        print(df.head())\n",
    "        df.reset_index(inplace=True)\n",
    "        df.to_feather(f\"./encoding_analysis/{filename}\")\n",
    "        i += 1\n"
   ]
  },
  {
   "cell_type": "code",
   "execution_count": 21,
   "metadata": {},
   "outputs": [
    {
     "name": "stderr",
     "output_type": "stream",
     "text": [
      "100%|██████████| 190378/190378 [18:58<00:00, 167.22it/s]  "
     ]
    },
    {
     "name": "stdout",
     "output_type": "stream",
     "text": [
      "1465\n",
      "293127\n"
     ]
    },
    {
     "name": "stderr",
     "output_type": "stream",
     "text": [
      "\n"
     ]
    }
   ],
   "source": [
    "# get the max len of all tokenizations\n",
    "# this cell takes around 20 minutes\n",
    "maxlen_i = 0\n",
    "maxlen_j = 0\n",
    "for i, j in tqdm(cnds):\n",
    "    bi, wi = i.input_ids.shape\n",
    "    bj, wj = j.input_ids.shape\n",
    "\n",
    "    if wi > maxlen_i:\n",
    "        maxlen_i = wi\n",
    "\n",
    "    if wj > maxlen_j:\n",
    "        maxlen_j = wj\n",
    "\n",
    "print(maxlen_i)\n",
    "print(maxlen_j)"
   ]
  },
  {
   "cell_type": "code",
   "execution_count": 51,
   "metadata": {},
   "outputs": [
    {
     "name": "stdout",
     "output_type": "stream",
     "text": [
      "0 torch.Size([10, 1, 1028])\n"
     ]
    }
   ],
   "source": [
    "\n",
    "dl = DataLoader(cnds, batch_size=10, shuffle=True)\n",
    "for i, batch in enumerate(dl):\n",
    "    print(i, batch[1].input_ids.shape)\n",
    "    break"
   ]
  }
 ],
 "metadata": {
  "kernelspec": {
   "display_name": "Python 3",
   "language": "python",
   "name": "python3"
  },
  "language_info": {
   "codemirror_mode": {
    "name": "ipython",
    "version": 3
   },
   "file_extension": ".py",
   "mimetype": "text/x-python",
   "name": "python",
   "nbconvert_exporter": "python",
   "pygments_lexer": "ipython3",
   "version": "3.10.0"
  }
 },
 "nbformat": 4,
 "nbformat_minor": 2
}
