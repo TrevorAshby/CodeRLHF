{
 "cells": [
  {
   "cell_type": "code",
   "execution_count": 1,
   "metadata": {},
   "outputs": [
    {
     "name": "stderr",
     "output_type": "stream",
     "text": [
      "/Users/faustogerman/miniforge3/envs/ML2Project/lib/python3.9/site-packages/tqdm/auto.py:21: TqdmWarning: IProgress not found. Please update jupyter and ipywidgets. See https://ipywidgets.readthedocs.io/en/stable/user_install.html\n",
      "  from .autonotebook import tqdm as notebook_tqdm\n",
      "/Users/faustogerman/miniforge3/envs/ML2Project/lib/python3.9/site-packages/bitsandbytes/cextension.py:34: UserWarning: The installed version of bitsandbytes was compiled without GPU support. 8-bit optimizers, 8-bit multiplication, and GPU quantization are unavailable.\n",
      "  warn(\"The installed version of bitsandbytes was compiled without GPU support. \"\n"
     ]
    },
    {
     "name": "stdout",
     "output_type": "stream",
     "text": [
      "'NoneType' object has no attribute 'cadam32bit_grad_fp32'\n"
     ]
    },
    {
     "name": "stderr",
     "output_type": "stream",
     "text": [
      "/Users/faustogerman/miniforge3/envs/ML2Project/lib/python3.9/site-packages/trl/trainer/ppo_config.py:141: UserWarning: The `optimize_cuda_cache` arguement will be deprecated soon, please use `optimize_device_cache` instead.\n",
      "  warnings.warn(\n"
     ]
    }
   ],
   "source": [
    "import wandb\n",
    "\n",
    "from dataclasses import dataclass, field\n",
    "from datasets import Dataset\n",
    "from transformers import AutoModelForSequenceClassification, AutoTokenizer\n",
    "from trl import RewardConfig, RewardTrainer\n",
    "from peft import LoraConfig, TaskType # Parameter Efficient Fine Tuning\n",
    "from tqdm import tqdm\n",
    "\n",
    "import pandas as pd\n",
    "import numpy as np"
   ]
  },
  {
   "cell_type": "code",
   "execution_count": 2,
   "metadata": {},
   "outputs": [],
   "source": [
    "tqdm.pandas()"
   ]
  },
  {
   "cell_type": "code",
   "execution_count": 3,
   "metadata": {},
   "outputs": [
    {
     "name": "stderr",
     "output_type": "stream",
     "text": [
      "Failed to detect the name of this notebook, you can set it manually with the WANDB_NOTEBOOK_NAME environment variable to enable code saving.\n",
      "\u001b[34m\u001b[1mwandb\u001b[0m: Currently logged in as: \u001b[33mfaustotnc\u001b[0m. Use \u001b[1m`wandb login --relogin`\u001b[0m to force relogin\n"
     ]
    },
    {
     "data": {
      "text/plain": [
       "True"
      ]
     },
     "execution_count": 3,
     "metadata": {},
     "output_type": "execute_result"
    }
   ],
   "source": [
    "# Log in to Weights and Biases for training logging\n",
    "wandb.login()"
   ]
  },
  {
   "cell_type": "code",
   "execution_count": 4,
   "metadata": {},
   "outputs": [],
   "source": [
    "DATASET_TRAIN = pd.read_feather(\"../mini_codenet/data/split/reward_train.ftr\")\n",
    "DATASET_EVAL = pd.read_feather(\"../mini_codenet/data/split/reward_val.ftr\")"
   ]
  },
  {
   "cell_type": "code",
   "execution_count": 5,
   "metadata": {},
   "outputs": [
    {
     "data": {
      "text/html": [
       "<div>\n",
       "<style scoped>\n",
       "    .dataframe tbody tr th:only-of-type {\n",
       "        vertical-align: middle;\n",
       "    }\n",
       "\n",
       "    .dataframe tbody tr th {\n",
       "        vertical-align: top;\n",
       "    }\n",
       "\n",
       "    .dataframe thead th {\n",
       "        text-align: right;\n",
       "    }\n",
       "</style>\n",
       "<table border=\"1\" class=\"dataframe\">\n",
       "  <thead>\n",
       "    <tr style=\"text-align: right;\">\n",
       "      <th></th>\n",
       "      <th>level_0</th>\n",
       "      <th>index</th>\n",
       "      <th>submission_id</th>\n",
       "      <th>problem_id</th>\n",
       "      <th>language</th>\n",
       "      <th>filename_ext</th>\n",
       "      <th>status</th>\n",
       "      <th>cpu_time</th>\n",
       "      <th>memory</th>\n",
       "      <th>code_size</th>\n",
       "      <th>accuracy</th>\n",
       "      <th>solution</th>\n",
       "      <th>problem_statement</th>\n",
       "    </tr>\n",
       "  </thead>\n",
       "  <tbody>\n",
       "    <tr>\n",
       "      <th>0</th>\n",
       "      <td>489131</td>\n",
       "      <td>3150</td>\n",
       "      <td>s521116537</td>\n",
       "      <td>p03440</td>\n",
       "      <td>C++</td>\n",
       "      <td>cpp</td>\n",
       "      <td>Accepted</td>\n",
       "      <td>45.0</td>\n",
       "      <td>6528.0</td>\n",
       "      <td>1067</td>\n",
       "      <td>None</td>\n",
       "      <td>#include&lt;bits/stdc++.h&gt;\\nusing namespace std;\\...</td>\n",
       "      <td>Score : 600 points \\n Problem Statement You ar...</td>\n",
       "    </tr>\n",
       "    <tr>\n",
       "      <th>1</th>\n",
       "      <td>1591382</td>\n",
       "      <td>13068</td>\n",
       "      <td>s902754234</td>\n",
       "      <td>p03835</td>\n",
       "      <td>C++</td>\n",
       "      <td>cpp</td>\n",
       "      <td>Time Limit Exceeded</td>\n",
       "      <td>2103.0</td>\n",
       "      <td>256.0</td>\n",
       "      <td>270</td>\n",
       "      <td>None</td>\n",
       "      <td>#include &lt;iostream&gt;\\nusing namespace std;\\n\\ni...</td>\n",
       "      <td>Score : 200 points \\n Problem Statement You ar...</td>\n",
       "    </tr>\n",
       "    <tr>\n",
       "      <th>2</th>\n",
       "      <td>2735943</td>\n",
       "      <td>2045</td>\n",
       "      <td>s058172052</td>\n",
       "      <td>p02345</td>\n",
       "      <td>C++</td>\n",
       "      <td>cpp</td>\n",
       "      <td>Wrong Answer</td>\n",
       "      <td>0.0</td>\n",
       "      <td>19400.0</td>\n",
       "      <td>1853</td>\n",
       "      <td>0/20</td>\n",
       "      <td>#include &lt;iostream&gt;\\n#include &lt;string&gt;\\n#inclu...</td>\n",
       "      <td>Range Minimum Query (RMQ) \\nWrite a program wh...</td>\n",
       "    </tr>\n",
       "    <tr>\n",
       "      <th>3</th>\n",
       "      <td>1085890</td>\n",
       "      <td>29535</td>\n",
       "      <td>s447764573</td>\n",
       "      <td>p02658</td>\n",
       "      <td>Python</td>\n",
       "      <td>py</td>\n",
       "      <td>Wrong Answer</td>\n",
       "      <td>55.0</td>\n",
       "      <td>21656.0</td>\n",
       "      <td>322</td>\n",
       "      <td>None</td>\n",
       "      <td>import sys\\n \\nread = sys.stdin.buffer.read\\nr...</td>\n",
       "      <td>Score : 200 points \\n Problem Statement Given ...</td>\n",
       "    </tr>\n",
       "    <tr>\n",
       "      <th>4</th>\n",
       "      <td>392827</td>\n",
       "      <td>6790</td>\n",
       "      <td>s702283400</td>\n",
       "      <td>p02824</td>\n",
       "      <td>C++</td>\n",
       "      <td>cpp</td>\n",
       "      <td>Wrong Answer</td>\n",
       "      <td>50.0</td>\n",
       "      <td>640.0</td>\n",
       "      <td>1415</td>\n",
       "      <td>None</td>\n",
       "      <td>#include &lt;bits/stdc++.h&gt;\\nusing namespace std;...</td>\n",
       "      <td>Score : 700 points \\n Problem Statement N prob...</td>\n",
       "    </tr>\n",
       "  </tbody>\n",
       "</table>\n",
       "</div>"
      ],
      "text/plain": [
       "   level_0  index submission_id problem_id language filename_ext  \\\n",
       "0   489131   3150    s521116537     p03440      C++          cpp   \n",
       "1  1591382  13068    s902754234     p03835      C++          cpp   \n",
       "2  2735943   2045    s058172052     p02345      C++          cpp   \n",
       "3  1085890  29535    s447764573     p02658   Python           py   \n",
       "4   392827   6790    s702283400     p02824      C++          cpp   \n",
       "\n",
       "                status  cpu_time   memory  code_size accuracy  \\\n",
       "0             Accepted      45.0   6528.0       1067     None   \n",
       "1  Time Limit Exceeded    2103.0    256.0        270     None   \n",
       "2         Wrong Answer       0.0  19400.0       1853     0/20   \n",
       "3         Wrong Answer      55.0  21656.0        322     None   \n",
       "4         Wrong Answer      50.0    640.0       1415     None   \n",
       "\n",
       "                                            solution  \\\n",
       "0  #include<bits/stdc++.h>\\nusing namespace std;\\...   \n",
       "1  #include <iostream>\\nusing namespace std;\\n\\ni...   \n",
       "2  #include <iostream>\\n#include <string>\\n#inclu...   \n",
       "3  import sys\\n \\nread = sys.stdin.buffer.read\\nr...   \n",
       "4  #include <bits/stdc++.h>\\nusing namespace std;...   \n",
       "\n",
       "                                   problem_statement  \n",
       "0  Score : 600 points \\n Problem Statement You ar...  \n",
       "1  Score : 200 points \\n Problem Statement You ar...  \n",
       "2  Range Minimum Query (RMQ) \\nWrite a program wh...  \n",
       "3  Score : 200 points \\n Problem Statement Given ...  \n",
       "4  Score : 700 points \\n Problem Statement N prob...  "
      ]
     },
     "execution_count": 5,
     "metadata": {},
     "output_type": "execute_result"
    }
   ],
   "source": [
    "DATASET_TRAIN.head()"
   ]
  },
  {
   "cell_type": "code",
   "execution_count": 6,
   "metadata": {},
   "outputs": [
    {
     "name": "stdout",
     "output_type": "stream",
     "text": [
      "666324\n"
     ]
    },
    {
     "data": {
      "text/plain": [
       "status\n",
       "Accepted                  359086\n",
       "Compile Error              25221\n",
       "Memory Limit Exceeded        531\n",
       "Output Limit Exceeded         41\n",
       "Query Limit Exceeded           5\n",
       "Runtime Error              41273\n",
       "Time Limit Exceeded        36310\n",
       "WA: Presentation Error      2693\n",
       "Wrong Answer              201164\n",
       "Name: solution, dtype: int64"
      ]
     },
     "execution_count": 6,
     "metadata": {},
     "output_type": "execute_result"
    }
   ],
   "source": [
    "print(len(DATASET_TRAIN))\n",
    "DATASET_TRAIN.groupby(\"status\")[\"solution\"].count()"
   ]
  },
  {
   "cell_type": "code",
   "execution_count": 7,
   "metadata": {},
   "outputs": [
    {
     "data": {
      "text/html": [
       "<div>\n",
       "<style scoped>\n",
       "    .dataframe tbody tr th:only-of-type {\n",
       "        vertical-align: middle;\n",
       "    }\n",
       "\n",
       "    .dataframe tbody tr th {\n",
       "        vertical-align: top;\n",
       "    }\n",
       "\n",
       "    .dataframe thead th {\n",
       "        text-align: right;\n",
       "    }\n",
       "</style>\n",
       "<table border=\"1\" class=\"dataframe\">\n",
       "  <thead>\n",
       "    <tr style=\"text-align: right;\">\n",
       "      <th></th>\n",
       "      <th>level_0</th>\n",
       "      <th>index</th>\n",
       "      <th>submission_id</th>\n",
       "      <th>problem_id</th>\n",
       "      <th>language</th>\n",
       "      <th>filename_ext</th>\n",
       "      <th>status</th>\n",
       "      <th>cpu_time</th>\n",
       "      <th>memory</th>\n",
       "      <th>code_size</th>\n",
       "      <th>accuracy</th>\n",
       "      <th>solution</th>\n",
       "      <th>problem_statement</th>\n",
       "    </tr>\n",
       "  </thead>\n",
       "  <tbody>\n",
       "    <tr>\n",
       "      <th>0</th>\n",
       "      <td>1606622</td>\n",
       "      <td>4831</td>\n",
       "      <td>s049565156</td>\n",
       "      <td>p02726</td>\n",
       "      <td>Python</td>\n",
       "      <td>py</td>\n",
       "      <td>Accepted</td>\n",
       "      <td>463.0</td>\n",
       "      <td>48220.0</td>\n",
       "      <td>850</td>\n",
       "      <td>None</td>\n",
       "      <td>from collections import deque\\n\\nn, x, y = [in...</td>\n",
       "      <td>Score : 400 points \\n Problem Statement \\n We ...</td>\n",
       "    </tr>\n",
       "    <tr>\n",
       "      <th>1</th>\n",
       "      <td>2671865</td>\n",
       "      <td>40710</td>\n",
       "      <td>s156125045</td>\n",
       "      <td>p02623</td>\n",
       "      <td>C++</td>\n",
       "      <td>cpp</td>\n",
       "      <td>Accepted</td>\n",
       "      <td>49.0</td>\n",
       "      <td>6776.0</td>\n",
       "      <td>1635</td>\n",
       "      <td>None</td>\n",
       "      <td>#include&lt;bits/stdc++.h&gt;\\n#include &lt;ext/pb_ds/a...</td>\n",
       "      <td>Score : 300 points \\n Problem Statement We hav...</td>\n",
       "    </tr>\n",
       "    <tr>\n",
       "      <th>2</th>\n",
       "      <td>544740</td>\n",
       "      <td>17793</td>\n",
       "      <td>s484568710</td>\n",
       "      <td>p02400</td>\n",
       "      <td>Python</td>\n",
       "      <td>py</td>\n",
       "      <td>Runtime Error</td>\n",
       "      <td>0.0</td>\n",
       "      <td>0.0</td>\n",
       "      <td>74</td>\n",
       "      <td>0/5</td>\n",
       "      <td>import math\\nr = int(input())\\n\\nprint(\"%f %f\"...</td>\n",
       "      <td>Circle \\nWrite a program which calculates the ...</td>\n",
       "    </tr>\n",
       "    <tr>\n",
       "      <th>3</th>\n",
       "      <td>1992812</td>\n",
       "      <td>3370</td>\n",
       "      <td>s260772730</td>\n",
       "      <td>p03012</td>\n",
       "      <td>C++</td>\n",
       "      <td>cpp</td>\n",
       "      <td>Accepted</td>\n",
       "      <td>2.0</td>\n",
       "      <td>256.0</td>\n",
       "      <td>2275</td>\n",
       "      <td>None</td>\n",
       "      <td>#define _GLIBCXX_DEBUG\\n// header {{{\\n#includ...</td>\n",
       "      <td>Score : 200 points \\n Problem Statement We hav...</td>\n",
       "    </tr>\n",
       "    <tr>\n",
       "      <th>4</th>\n",
       "      <td>2123135</td>\n",
       "      <td>17567</td>\n",
       "      <td>s239779632</td>\n",
       "      <td>p02657</td>\n",
       "      <td>C++</td>\n",
       "      <td>cpp</td>\n",
       "      <td>Accepted</td>\n",
       "      <td>2.0</td>\n",
       "      <td>3636.0</td>\n",
       "      <td>1489</td>\n",
       "      <td>None</td>\n",
       "      <td>#include \"bits/stdc++.h\"\\nusing namespace std;...</td>\n",
       "      <td>Score : 100 points \\n Problem Statement Comput...</td>\n",
       "    </tr>\n",
       "  </tbody>\n",
       "</table>\n",
       "</div>"
      ],
      "text/plain": [
       "   level_0  index submission_id problem_id language filename_ext  \\\n",
       "0  1606622   4831    s049565156     p02726   Python           py   \n",
       "1  2671865  40710    s156125045     p02623      C++          cpp   \n",
       "2   544740  17793    s484568710     p02400   Python           py   \n",
       "3  1992812   3370    s260772730     p03012      C++          cpp   \n",
       "4  2123135  17567    s239779632     p02657      C++          cpp   \n",
       "\n",
       "          status  cpu_time   memory  code_size accuracy  \\\n",
       "0       Accepted     463.0  48220.0        850     None   \n",
       "1       Accepted      49.0   6776.0       1635     None   \n",
       "2  Runtime Error       0.0      0.0         74      0/5   \n",
       "3       Accepted       2.0    256.0       2275     None   \n",
       "4       Accepted       2.0   3636.0       1489     None   \n",
       "\n",
       "                                            solution  \\\n",
       "0  from collections import deque\\n\\nn, x, y = [in...   \n",
       "1  #include<bits/stdc++.h>\\n#include <ext/pb_ds/a...   \n",
       "2  import math\\nr = int(input())\\n\\nprint(\"%f %f\"...   \n",
       "3  #define _GLIBCXX_DEBUG\\n// header {{{\\n#includ...   \n",
       "4  #include \"bits/stdc++.h\"\\nusing namespace std;...   \n",
       "\n",
       "                                   problem_statement  \n",
       "0  Score : 400 points \\n Problem Statement \\n We ...  \n",
       "1  Score : 300 points \\n Problem Statement We hav...  \n",
       "2  Circle \\nWrite a program which calculates the ...  \n",
       "3  Score : 200 points \\n Problem Statement We hav...  \n",
       "4  Score : 100 points \\n Problem Statement Comput...  "
      ]
     },
     "execution_count": 7,
     "metadata": {},
     "output_type": "execute_result"
    }
   ],
   "source": [
    "DATASET_EVAL.head()"
   ]
  },
  {
   "cell_type": "code",
   "execution_count": 8,
   "metadata": {},
   "outputs": [
    {
     "name": "stdout",
     "output_type": "stream",
     "text": [
      "190379\n"
     ]
    },
    {
     "data": {
      "text/plain": [
       "status\n",
       "Accepted                  102703\n",
       "Compile Error               7130\n",
       "Memory Limit Exceeded        159\n",
       "Output Limit Exceeded         13\n",
       "Runtime Error              11867\n",
       "Time Limit Exceeded        10076\n",
       "WA: Presentation Error       774\n",
       "Wrong Answer               57657\n",
       "Name: solution, dtype: int64"
      ]
     },
     "execution_count": 8,
     "metadata": {},
     "output_type": "execute_result"
    }
   ],
   "source": [
    "print(len(DATASET_EVAL))\n",
    "DATASET_EVAL.groupby(\"status\")[\"solution\"].count()"
   ]
  },
  {
   "cell_type": "code",
   "execution_count": 9,
   "metadata": {},
   "outputs": [
    {
     "name": "stdout",
     "output_type": "stream",
     "text": [
      "Total Accepted Problems in TRAIN: 359086\n",
      "Total Rejected Problems in TRAIN: 307238\n",
      "Unique IDs in Accepted TRAIN: 2449\n",
      "Unique IDs in Rejected TRAIN: 2368\n",
      "------------\n",
      "Total Accepted Problems in EVAL: 102703\n",
      "Total Rejected Problems in EVAL: 87676\n",
      "Unique IDs in Accepted EVAL: 2198\n",
      "Unique IDs in Rejected EVAL: 2120\n"
     ]
    }
   ],
   "source": [
    "# Sample 1000 accepted solutions at random.\n",
    "accepted_train = DATASET_TRAIN[DATASET_TRAIN[\"status\"] == \"Accepted\"][[\"submission_id\", \"problem_id\", \"language\", \"solution\"]]\n",
    "rejected_train = DATASET_TRAIN[DATASET_TRAIN[\"status\"] != \"Accepted\"][[\"submission_id\", \"problem_id\", \"language\", \"solution\"]]\n",
    "accepted_eval = DATASET_EVAL[DATASET_EVAL[\"status\"] == \"Accepted\"][[\"submission_id\", \"problem_id\", \"language\", \"solution\"]]\n",
    "rejected_eval = DATASET_EVAL[DATASET_EVAL[\"status\"] != \"Accepted\"][[\"submission_id\", \"problem_id\", \"language\", \"solution\"]]\n",
    "\n",
    "print(\"Total Accepted Problems in TRAIN:\", len(accepted_train[\"submission_id\"]))\n",
    "print(\"Total Rejected Problems in TRAIN:\", len(rejected_train[\"submission_id\"]))\n",
    "print(\"Unique IDs in Accepted TRAIN:\", len(accepted_train[\"problem_id\"].unique()))\n",
    "print(\"Unique IDs in Rejected TRAIN:\", len(rejected_train[\"problem_id\"].unique()))\n",
    "print(\"------------\")\n",
    "print(\"Total Accepted Problems in EVAL:\", len(accepted_eval[\"submission_id\"]))\n",
    "print(\"Total Rejected Problems in EVAL:\", len(rejected_eval[\"submission_id\"]))\n",
    "print(\"Unique IDs in Accepted EVAL:\", len(accepted_eval[\"problem_id\"].unique()))\n",
    "print(\"Unique IDs in Rejected EVAL:\", len(rejected_eval[\"problem_id\"].unique()))"
   ]
  },
  {
   "cell_type": "code",
   "execution_count": 10,
   "metadata": {},
   "outputs": [],
   "source": [
    "# For each accepted solution, chose a contrasting rejected \n",
    "def get_contrastive_pairs(data_accepted, data_rejected, n=3):\n",
    "    data = { \"accepted\": [], \"rejected\": [] }\n",
    "\n",
    "    # SPEED UP!! Group rejected answers by problem_id and language and cache the results so\n",
    "    # we do not have to filter the whole dataset inside the main for-loop on every iteration.\n",
    "    # Plus, we get O(1) look up time 😎\n",
    "    grouped_rejected = data_rejected.groupby([\"problem_id\", \"language\"])[\"solution\"].apply(list).to_dict()\n",
    "\n",
    "    for _, accepted_pid, accepted_lang, accepted_sol in tqdm(data_accepted.values):\n",
    "        key = (accepted_pid, accepted_lang)\n",
    "\n",
    "        if key in grouped_rejected:\n",
    "            # Get up to `n`` rejected examples in the current language for the current problem.\n",
    "            rejected_filtered = grouped_rejected[key]\n",
    "\n",
    "            size = min(len(rejected_filtered), n)\n",
    "            for idx in np.random.randint(0, len(rejected_filtered), size):\n",
    "                data[\"accepted\"].append(accepted_sol)\n",
    "                data[\"rejected\"].append(rejected_filtered[idx])\n",
    "        else:\n",
    "            # The problem only contains a correct solutions in the current language. Skip it.\n",
    "            pass\n",
    "\n",
    "    return Dataset.from_dict(data)\n",
    "\n",
    "# Tokenize chosen/rejected pairs of inputs\n",
    "def preprocess_function(examples, tokenizer):\n",
    "    new_examples = {\n",
    "        \"input_ids_chosen\": [],\n",
    "        \"attention_mask_chosen\": [],\n",
    "        \"input_ids_rejected\": [],\n",
    "        \"attention_mask_rejected\": [],\n",
    "    }\n",
    "\n",
    "    for chosen, rejected in zip(examples[\"accepted\"], examples[\"rejected\"]):\n",
    "        tokenized_chosen = tokenizer(chosen)\n",
    "        tokenized_rejected = tokenizer(rejected)\n",
    "\n",
    "        new_examples[\"input_ids_chosen\"].append(tokenized_chosen[\"input_ids\"])\n",
    "        new_examples[\"attention_mask_chosen\"].append(tokenized_chosen[\"attention_mask\"])\n",
    "        new_examples[\"input_ids_rejected\"].append(tokenized_rejected[\"input_ids\"])\n",
    "        new_examples[\"attention_mask_rejected\"].append(tokenized_rejected[\"attention_mask\"])\n",
    "\n",
    "    return new_examples\n",
    "\n",
    "# Preprocess the dataset and filter out examples that are longer than args.max_length\n",
    "def process_data(accepted, rejected, tokenizer, args):\n",
    "    dataset = get_contrastive_pairs(accepted, rejected)\n",
    "\n",
    "    dataset = dataset.map(\n",
    "        lambda example: preprocess_function(example, tokenizer),\n",
    "        batched=True,\n",
    "        num_proc=4,\n",
    "    )\n",
    "\n",
    "    dataset = dataset.filter(\n",
    "        lambda x: len(x[\"input_ids_chosen\"]) <= args.reward_config.max_length\n",
    "        and len(x[\"input_ids_rejected\"]) <= args.reward_config.max_length\n",
    "    )\n",
    "    \n",
    "    return dataset"
   ]
  },
  {
   "cell_type": "code",
   "execution_count": 11,
   "metadata": {},
   "outputs": [],
   "source": [
    "@dataclass\n",
    "class ScriptArguments:\n",
    "    model_name: str = \"../hf_model/\" # TODO: Change path to correct SFT model\n",
    "    \"\"\"the model name\"\"\"\n",
    "    eval_split: bool = False\n",
    "    \"\"\"the dataset split to evaluate on; default to 'none' (no evaluation)\"\"\"\n",
    "    reward_config: RewardConfig = field(\n",
    "        default_factory=lambda: RewardConfig(\n",
    "            output_dir=\"output\",\n",
    "            per_device_train_batch_size=64,\n",
    "            num_train_epochs=10,\n",
    "            gradient_accumulation_steps=16,\n",
    "            gradient_checkpointing=True,\n",
    "            gradient_checkpointing_kwargs={\"use_reentrant\": False},\n",
    "            learning_rate=1.41e-5,\n",
    "            report_to=\"wandb\", # log training progress to Weights and Biases\n",
    "            remove_unused_columns=False,\n",
    "            optim=\"adamw_torch\",\n",
    "            logging_steps=500,\n",
    "            evaluation_strategy=\"no\",\n",
    "            max_length=256, # TODO: NEED TO CHANGE THIS!\n",
    "        )\n",
    "    )\n",
    "\n",
    "args = ScriptArguments()\n",
    "args.reward_config.evaluation_strategy = \"steps\" if args.eval_split else \"no\""
   ]
  },
  {
   "cell_type": "code",
   "execution_count": 12,
   "metadata": {},
   "outputs": [
    {
     "name": "stderr",
     "output_type": "stream",
     "text": [
      "Special tokens have been added in the vocabulary, make sure the associated word embeddings are fine-tuned or trained.\n"
     ]
    }
   ],
   "source": [
    "# Step 1: Load the dataset and pre-process it\n",
    "tokenizer = AutoTokenizer.from_pretrained(args.model_name)"
   ]
  },
  {
   "cell_type": "code",
   "execution_count": 17,
   "metadata": {},
   "outputs": [
    {
     "name": "stdout",
     "output_type": "stream",
     "text": [
      "Training Data:\n"
     ]
    },
    {
     "name": "stderr",
     "output_type": "stream",
     "text": [
      "100%|██████████| 359086/359086 [00:02<00:00, 177351.66it/s]\n",
      "Map (num_proc=4):   4%|▎         | 40000/1069584 [00:35<11:13, 1528.27 examples/s]Exception ignored in: <generator object iflatmap_unordered at 0x2bc3019e0>\n",
      "Traceback (most recent call last):\n",
      "  File \"/Users/faustogerman/miniforge3/envs/ML2Project/lib/python3.9/site-packages/datasets/utils/py_utils.py\", line 1394, in iflatmap_unordered\n",
      "    [async_result.get(timeout=0.05) for async_result in async_results]\n",
      "  File \"/Users/faustogerman/miniforge3/envs/ML2Project/lib/python3.9/site-packages/datasets/utils/py_utils.py\", line 1394, in <listcomp>\n",
      "    [async_result.get(timeout=0.05) for async_result in async_results]\n",
      "  File \"/Users/faustogerman/miniforge3/envs/ML2Project/lib/python3.9/site-packages/multiprocess/pool.py\", line 767, in get\n",
      "    raise TimeoutError\n",
      "multiprocess.context.TimeoutError: \n",
      "Map (num_proc=4):   4%|▎         | 40000/1069584 [00:35<15:21, 1117.14 examples/s]\n"
     ]
    },
    {
     "ename": "KeyboardInterrupt",
     "evalue": "",
     "output_type": "error",
     "traceback": [
      "\u001b[0;31m---------------------------------------------------------------------------\u001b[0m",
      "\u001b[0;31mKeyboardInterrupt\u001b[0m                         Traceback (most recent call last)",
      "\u001b[1;32m/Users/faustogerman/Documents/GitHub/CodeRLHF/Reward Model/main.ipynb Cell 13\u001b[0m line \u001b[0;36m2\n\u001b[1;32m      <a href='vscode-notebook-cell:/Users/faustogerman/Documents/GitHub/CodeRLHF/Reward%20Model/main.ipynb#X60sZmlsZQ%3D%3D?line=0'>1</a>\u001b[0m \u001b[39mprint\u001b[39m(\u001b[39m\"\u001b[39m\u001b[39mTraining Data:\u001b[39m\u001b[39m\"\u001b[39m)\n\u001b[0;32m----> <a href='vscode-notebook-cell:/Users/faustogerman/Documents/GitHub/CodeRLHF/Reward%20Model/main.ipynb#X60sZmlsZQ%3D%3D?line=1'>2</a>\u001b[0m train_dataset \u001b[39m=\u001b[39m process_data(accepted_train, rejected_train, tokenizer, args)\n\u001b[1;32m      <a href='vscode-notebook-cell:/Users/faustogerman/Documents/GitHub/CodeRLHF/Reward%20Model/main.ipynb#X60sZmlsZQ%3D%3D?line=3'>4</a>\u001b[0m \u001b[39mprint\u001b[39m(\u001b[39m\"\u001b[39m\u001b[39m\\n\u001b[39;00m\u001b[39mEvaluation Data:\u001b[39m\u001b[39m\"\u001b[39m)\n\u001b[1;32m      <a href='vscode-notebook-cell:/Users/faustogerman/Documents/GitHub/CodeRLHF/Reward%20Model/main.ipynb#X60sZmlsZQ%3D%3D?line=4'>5</a>\u001b[0m eval_dataset \u001b[39m=\u001b[39m process_data(accepted_eval, rejected_eval, tokenizer, args)\n",
      "\u001b[1;32m/Users/faustogerman/Documents/GitHub/CodeRLHF/Reward Model/main.ipynb Cell 13\u001b[0m line \u001b[0;36m5\n\u001b[1;32m     <a href='vscode-notebook-cell:/Users/faustogerman/Documents/GitHub/CodeRLHF/Reward%20Model/main.ipynb#X60sZmlsZQ%3D%3D?line=47'>48</a>\u001b[0m \u001b[39mdef\u001b[39;00m \u001b[39mprocess_data\u001b[39m(accepted, rejected, tokenizer, args):\n\u001b[1;32m     <a href='vscode-notebook-cell:/Users/faustogerman/Documents/GitHub/CodeRLHF/Reward%20Model/main.ipynb#X60sZmlsZQ%3D%3D?line=48'>49</a>\u001b[0m     dataset \u001b[39m=\u001b[39m get_contrastive_pairs(accepted, rejected)\n\u001b[0;32m---> <a href='vscode-notebook-cell:/Users/faustogerman/Documents/GitHub/CodeRLHF/Reward%20Model/main.ipynb#X60sZmlsZQ%3D%3D?line=50'>51</a>\u001b[0m     dataset \u001b[39m=\u001b[39m dataset\u001b[39m.\u001b[39;49mmap(\n\u001b[1;32m     <a href='vscode-notebook-cell:/Users/faustogerman/Documents/GitHub/CodeRLHF/Reward%20Model/main.ipynb#X60sZmlsZQ%3D%3D?line=51'>52</a>\u001b[0m         \u001b[39mlambda\u001b[39;49;00m example: preprocess_function(example, tokenizer),\n\u001b[1;32m     <a href='vscode-notebook-cell:/Users/faustogerman/Documents/GitHub/CodeRLHF/Reward%20Model/main.ipynb#X60sZmlsZQ%3D%3D?line=52'>53</a>\u001b[0m         batched\u001b[39m=\u001b[39;49m\u001b[39mTrue\u001b[39;49;00m,\n\u001b[1;32m     <a href='vscode-notebook-cell:/Users/faustogerman/Documents/GitHub/CodeRLHF/Reward%20Model/main.ipynb#X60sZmlsZQ%3D%3D?line=53'>54</a>\u001b[0m         num_proc\u001b[39m=\u001b[39;49m\u001b[39m4\u001b[39;49m,\n\u001b[1;32m     <a href='vscode-notebook-cell:/Users/faustogerman/Documents/GitHub/CodeRLHF/Reward%20Model/main.ipynb#X60sZmlsZQ%3D%3D?line=54'>55</a>\u001b[0m     )\n\u001b[1;32m     <a href='vscode-notebook-cell:/Users/faustogerman/Documents/GitHub/CodeRLHF/Reward%20Model/main.ipynb#X60sZmlsZQ%3D%3D?line=56'>57</a>\u001b[0m     dataset \u001b[39m=\u001b[39m dataset\u001b[39m.\u001b[39mfilter(\n\u001b[1;32m     <a href='vscode-notebook-cell:/Users/faustogerman/Documents/GitHub/CodeRLHF/Reward%20Model/main.ipynb#X60sZmlsZQ%3D%3D?line=57'>58</a>\u001b[0m         \u001b[39mlambda\u001b[39;00m x: \u001b[39mlen\u001b[39m(x[\u001b[39m\"\u001b[39m\u001b[39minput_ids_chosen\u001b[39m\u001b[39m\"\u001b[39m]) \u001b[39m<\u001b[39m\u001b[39m=\u001b[39m args\u001b[39m.\u001b[39mreward_config\u001b[39m.\u001b[39mmax_length\n\u001b[1;32m     <a href='vscode-notebook-cell:/Users/faustogerman/Documents/GitHub/CodeRLHF/Reward%20Model/main.ipynb#X60sZmlsZQ%3D%3D?line=58'>59</a>\u001b[0m         \u001b[39mand\u001b[39;00m \u001b[39mlen\u001b[39m(x[\u001b[39m\"\u001b[39m\u001b[39minput_ids_rejected\u001b[39m\u001b[39m\"\u001b[39m]) \u001b[39m<\u001b[39m\u001b[39m=\u001b[39m args\u001b[39m.\u001b[39mreward_config\u001b[39m.\u001b[39mmax_length\n\u001b[1;32m     <a href='vscode-notebook-cell:/Users/faustogerman/Documents/GitHub/CodeRLHF/Reward%20Model/main.ipynb#X60sZmlsZQ%3D%3D?line=59'>60</a>\u001b[0m     )\n\u001b[1;32m     <a href='vscode-notebook-cell:/Users/faustogerman/Documents/GitHub/CodeRLHF/Reward%20Model/main.ipynb#X60sZmlsZQ%3D%3D?line=61'>62</a>\u001b[0m     \u001b[39mreturn\u001b[39;00m dataset\n",
      "File \u001b[0;32m~/miniforge3/envs/ML2Project/lib/python3.9/site-packages/datasets/arrow_dataset.py:592\u001b[0m, in \u001b[0;36mtransmit_tasks.<locals>.wrapper\u001b[0;34m(*args, **kwargs)\u001b[0m\n\u001b[1;32m    590\u001b[0m     \u001b[39mself\u001b[39m: \u001b[39m\"\u001b[39m\u001b[39mDataset\u001b[39m\u001b[39m\"\u001b[39m \u001b[39m=\u001b[39m kwargs\u001b[39m.\u001b[39mpop(\u001b[39m\"\u001b[39m\u001b[39mself\u001b[39m\u001b[39m\"\u001b[39m)\n\u001b[1;32m    591\u001b[0m \u001b[39m# apply actual function\u001b[39;00m\n\u001b[0;32m--> 592\u001b[0m out: Union[\u001b[39m\"\u001b[39m\u001b[39mDataset\u001b[39m\u001b[39m\"\u001b[39m, \u001b[39m\"\u001b[39m\u001b[39mDatasetDict\u001b[39m\u001b[39m\"\u001b[39m] \u001b[39m=\u001b[39m func(\u001b[39mself\u001b[39;49m, \u001b[39m*\u001b[39;49margs, \u001b[39m*\u001b[39;49m\u001b[39m*\u001b[39;49mkwargs)\n\u001b[1;32m    593\u001b[0m datasets: List[\u001b[39m\"\u001b[39m\u001b[39mDataset\u001b[39m\u001b[39m\"\u001b[39m] \u001b[39m=\u001b[39m \u001b[39mlist\u001b[39m(out\u001b[39m.\u001b[39mvalues()) \u001b[39mif\u001b[39;00m \u001b[39misinstance\u001b[39m(out, \u001b[39mdict\u001b[39m) \u001b[39melse\u001b[39;00m [out]\n\u001b[1;32m    594\u001b[0m \u001b[39mfor\u001b[39;00m dataset \u001b[39min\u001b[39;00m datasets:\n\u001b[1;32m    595\u001b[0m     \u001b[39m# Remove task templates if a column mapping of the template is no longer valid\u001b[39;00m\n",
      "File \u001b[0;32m~/miniforge3/envs/ML2Project/lib/python3.9/site-packages/datasets/arrow_dataset.py:557\u001b[0m, in \u001b[0;36mtransmit_format.<locals>.wrapper\u001b[0;34m(*args, **kwargs)\u001b[0m\n\u001b[1;32m    550\u001b[0m self_format \u001b[39m=\u001b[39m {\n\u001b[1;32m    551\u001b[0m     \u001b[39m\"\u001b[39m\u001b[39mtype\u001b[39m\u001b[39m\"\u001b[39m: \u001b[39mself\u001b[39m\u001b[39m.\u001b[39m_format_type,\n\u001b[1;32m    552\u001b[0m     \u001b[39m\"\u001b[39m\u001b[39mformat_kwargs\u001b[39m\u001b[39m\"\u001b[39m: \u001b[39mself\u001b[39m\u001b[39m.\u001b[39m_format_kwargs,\n\u001b[1;32m    553\u001b[0m     \u001b[39m\"\u001b[39m\u001b[39mcolumns\u001b[39m\u001b[39m\"\u001b[39m: \u001b[39mself\u001b[39m\u001b[39m.\u001b[39m_format_columns,\n\u001b[1;32m    554\u001b[0m     \u001b[39m\"\u001b[39m\u001b[39moutput_all_columns\u001b[39m\u001b[39m\"\u001b[39m: \u001b[39mself\u001b[39m\u001b[39m.\u001b[39m_output_all_columns,\n\u001b[1;32m    555\u001b[0m }\n\u001b[1;32m    556\u001b[0m \u001b[39m# apply actual function\u001b[39;00m\n\u001b[0;32m--> 557\u001b[0m out: Union[\u001b[39m\"\u001b[39m\u001b[39mDataset\u001b[39m\u001b[39m\"\u001b[39m, \u001b[39m\"\u001b[39m\u001b[39mDatasetDict\u001b[39m\u001b[39m\"\u001b[39m] \u001b[39m=\u001b[39m func(\u001b[39mself\u001b[39;49m, \u001b[39m*\u001b[39;49margs, \u001b[39m*\u001b[39;49m\u001b[39m*\u001b[39;49mkwargs)\n\u001b[1;32m    558\u001b[0m datasets: List[\u001b[39m\"\u001b[39m\u001b[39mDataset\u001b[39m\u001b[39m\"\u001b[39m] \u001b[39m=\u001b[39m \u001b[39mlist\u001b[39m(out\u001b[39m.\u001b[39mvalues()) \u001b[39mif\u001b[39;00m \u001b[39misinstance\u001b[39m(out, \u001b[39mdict\u001b[39m) \u001b[39melse\u001b[39;00m [out]\n\u001b[1;32m    559\u001b[0m \u001b[39m# re-apply format to the output\u001b[39;00m\n",
      "File \u001b[0;32m~/miniforge3/envs/ML2Project/lib/python3.9/site-packages/datasets/arrow_dataset.py:3197\u001b[0m, in \u001b[0;36mDataset.map\u001b[0;34m(self, function, with_indices, with_rank, input_columns, batched, batch_size, drop_last_batch, remove_columns, keep_in_memory, load_from_cache_file, cache_file_name, writer_batch_size, features, disable_nullable, fn_kwargs, num_proc, suffix_template, new_fingerprint, desc)\u001b[0m\n\u001b[1;32m   3195\u001b[0m                 transformed_shards[rank] \u001b[39m=\u001b[39m content\n\u001b[1;32m   3196\u001b[0m             \u001b[39melse\u001b[39;00m:\n\u001b[0;32m-> 3197\u001b[0m                 pbar\u001b[39m.\u001b[39;49mupdate(content)\n\u001b[1;32m   3198\u001b[0m \u001b[39m# Avoids PermissionError on Windows (the error: https://github.com/huggingface/datasets/actions/runs/4026734820/jobs/6921621805)\u001b[39;00m\n\u001b[1;32m   3199\u001b[0m \u001b[39mfor\u001b[39;00m kwargs \u001b[39min\u001b[39;00m kwargs_per_job:\n",
      "File \u001b[0;32m~/miniforge3/envs/ML2Project/lib/python3.9/site-packages/tqdm/std.py:1243\u001b[0m, in \u001b[0;36mtqdm.update\u001b[0;34m(self, n)\u001b[0m\n\u001b[1;32m   1241\u001b[0m     \u001b[39mself\u001b[39m\u001b[39m.\u001b[39m_ema_dn(dn)\n\u001b[1;32m   1242\u001b[0m     \u001b[39mself\u001b[39m\u001b[39m.\u001b[39m_ema_dt(dt)\n\u001b[0;32m-> 1243\u001b[0m \u001b[39mself\u001b[39;49m\u001b[39m.\u001b[39;49mrefresh(lock_args\u001b[39m=\u001b[39;49m\u001b[39mself\u001b[39;49m\u001b[39m.\u001b[39;49mlock_args)\n\u001b[1;32m   1244\u001b[0m \u001b[39mif\u001b[39;00m \u001b[39mself\u001b[39m\u001b[39m.\u001b[39mdynamic_miniters:\n\u001b[1;32m   1245\u001b[0m     \u001b[39m# If no `miniters` was specified, adjust automatically to the\u001b[39;00m\n\u001b[1;32m   1246\u001b[0m     \u001b[39m# maximum iteration rate seen so far between two prints.\u001b[39;00m\n\u001b[1;32m   1247\u001b[0m     \u001b[39m# e.g.: After running `tqdm.update(5)`, subsequent\u001b[39;00m\n\u001b[1;32m   1248\u001b[0m     \u001b[39m# calls to `tqdm.update()` will only cause an update after\u001b[39;00m\n\u001b[1;32m   1249\u001b[0m     \u001b[39m# at least 5 more iterations.\u001b[39;00m\n\u001b[1;32m   1250\u001b[0m     \u001b[39mif\u001b[39;00m \u001b[39mself\u001b[39m\u001b[39m.\u001b[39mmaxinterval \u001b[39mand\u001b[39;00m dt \u001b[39m>\u001b[39m\u001b[39m=\u001b[39m \u001b[39mself\u001b[39m\u001b[39m.\u001b[39mmaxinterval:\n",
      "File \u001b[0;32m~/miniforge3/envs/ML2Project/lib/python3.9/site-packages/tqdm/std.py:1348\u001b[0m, in \u001b[0;36mtqdm.refresh\u001b[0;34m(self, nolock, lock_args)\u001b[0m\n\u001b[1;32m   1346\u001b[0m     \u001b[39melse\u001b[39;00m:\n\u001b[1;32m   1347\u001b[0m         \u001b[39mself\u001b[39m\u001b[39m.\u001b[39m_lock\u001b[39m.\u001b[39macquire()\n\u001b[0;32m-> 1348\u001b[0m \u001b[39mself\u001b[39;49m\u001b[39m.\u001b[39;49mdisplay()\n\u001b[1;32m   1349\u001b[0m \u001b[39mif\u001b[39;00m \u001b[39mnot\u001b[39;00m nolock:\n\u001b[1;32m   1350\u001b[0m     \u001b[39mself\u001b[39m\u001b[39m.\u001b[39m_lock\u001b[39m.\u001b[39mrelease()\n",
      "File \u001b[0;32m~/miniforge3/envs/ML2Project/lib/python3.9/site-packages/tqdm/std.py:1496\u001b[0m, in \u001b[0;36mtqdm.display\u001b[0;34m(self, msg, pos)\u001b[0m\n\u001b[1;32m   1494\u001b[0m \u001b[39mif\u001b[39;00m pos:\n\u001b[1;32m   1495\u001b[0m     \u001b[39mself\u001b[39m\u001b[39m.\u001b[39mmoveto(pos)\n\u001b[0;32m-> 1496\u001b[0m \u001b[39mself\u001b[39;49m\u001b[39m.\u001b[39;49msp(\u001b[39mself\u001b[39;49m\u001b[39m.\u001b[39;49m\u001b[39m__str__\u001b[39;49m() \u001b[39mif\u001b[39;49;00m msg \u001b[39mis\u001b[39;49;00m \u001b[39mNone\u001b[39;49;00m \u001b[39melse\u001b[39;49;00m msg)\n\u001b[1;32m   1497\u001b[0m \u001b[39mif\u001b[39;00m pos:\n\u001b[1;32m   1498\u001b[0m     \u001b[39mself\u001b[39m\u001b[39m.\u001b[39mmoveto(\u001b[39m-\u001b[39mpos)\n",
      "File \u001b[0;32m~/miniforge3/envs/ML2Project/lib/python3.9/site-packages/tqdm/std.py:462\u001b[0m, in \u001b[0;36mtqdm.status_printer.<locals>.print_status\u001b[0;34m(s)\u001b[0m\n\u001b[1;32m    460\u001b[0m \u001b[39mdef\u001b[39;00m \u001b[39mprint_status\u001b[39m(s):\n\u001b[1;32m    461\u001b[0m     len_s \u001b[39m=\u001b[39m disp_len(s)\n\u001b[0;32m--> 462\u001b[0m     fp_write(\u001b[39m'\u001b[39;49m\u001b[39m\\r\u001b[39;49;00m\u001b[39m'\u001b[39;49m \u001b[39m+\u001b[39;49m s \u001b[39m+\u001b[39;49m (\u001b[39m'\u001b[39;49m\u001b[39m \u001b[39;49m\u001b[39m'\u001b[39;49m \u001b[39m*\u001b[39;49m \u001b[39mmax\u001b[39;49m(last_len[\u001b[39m0\u001b[39;49m] \u001b[39m-\u001b[39;49m len_s, \u001b[39m0\u001b[39;49m)))\n\u001b[1;32m    463\u001b[0m     last_len[\u001b[39m0\u001b[39m] \u001b[39m=\u001b[39m len_s\n",
      "File \u001b[0;32m~/miniforge3/envs/ML2Project/lib/python3.9/site-packages/tqdm/std.py:456\u001b[0m, in \u001b[0;36mtqdm.status_printer.<locals>.fp_write\u001b[0;34m(s)\u001b[0m\n\u001b[1;32m    454\u001b[0m \u001b[39mdef\u001b[39;00m \u001b[39mfp_write\u001b[39m(s):\n\u001b[1;32m    455\u001b[0m     fp\u001b[39m.\u001b[39mwrite(\u001b[39mstr\u001b[39m(s))\n\u001b[0;32m--> 456\u001b[0m     fp_flush()\n",
      "File \u001b[0;32m~/miniforge3/envs/ML2Project/lib/python3.9/site-packages/tqdm/utils.py:195\u001b[0m, in \u001b[0;36mDisableOnWriteError.disable_on_exception.<locals>.inner\u001b[0;34m(*args, **kwargs)\u001b[0m\n\u001b[1;32m    193\u001b[0m \u001b[39mdef\u001b[39;00m \u001b[39minner\u001b[39m(\u001b[39m*\u001b[39margs, \u001b[39m*\u001b[39m\u001b[39m*\u001b[39mkwargs):\n\u001b[1;32m    194\u001b[0m     \u001b[39mtry\u001b[39;00m:\n\u001b[0;32m--> 195\u001b[0m         \u001b[39mreturn\u001b[39;00m func(\u001b[39m*\u001b[39;49margs, \u001b[39m*\u001b[39;49m\u001b[39m*\u001b[39;49mkwargs)\n\u001b[1;32m    196\u001b[0m     \u001b[39mexcept\u001b[39;00m \u001b[39mOSError\u001b[39;00m \u001b[39mas\u001b[39;00m e:\n\u001b[1;32m    197\u001b[0m         \u001b[39mif\u001b[39;00m e\u001b[39m.\u001b[39merrno \u001b[39m!=\u001b[39m \u001b[39m5\u001b[39m:\n",
      "File \u001b[0;32m~/miniforge3/envs/ML2Project/lib/python3.9/site-packages/ipykernel/iostream.py:580\u001b[0m, in \u001b[0;36mOutStream.flush\u001b[0;34m(self)\u001b[0m\n\u001b[1;32m    578\u001b[0m     \u001b[39mself\u001b[39m\u001b[39m.\u001b[39mpub_thread\u001b[39m.\u001b[39mschedule(evt\u001b[39m.\u001b[39mset)\n\u001b[1;32m    579\u001b[0m     \u001b[39m# and give a timeout to avoid\u001b[39;00m\n\u001b[0;32m--> 580\u001b[0m     \u001b[39mif\u001b[39;00m \u001b[39mnot\u001b[39;00m evt\u001b[39m.\u001b[39;49mwait(\u001b[39mself\u001b[39;49m\u001b[39m.\u001b[39;49mflush_timeout):\n\u001b[1;32m    581\u001b[0m         \u001b[39m# write directly to __stderr__ instead of warning because\u001b[39;00m\n\u001b[1;32m    582\u001b[0m         \u001b[39m# if this is happening sys.stderr may be the problem.\u001b[39;00m\n\u001b[1;32m    583\u001b[0m         \u001b[39mprint\u001b[39m(\u001b[39m\"\u001b[39m\u001b[39mIOStream.flush timed out\u001b[39m\u001b[39m\"\u001b[39m, file\u001b[39m=\u001b[39msys\u001b[39m.\u001b[39m__stderr__)\n\u001b[1;32m    584\u001b[0m \u001b[39melse\u001b[39;00m:\n",
      "File \u001b[0;32m~/miniforge3/envs/ML2Project/lib/python3.9/threading.py:581\u001b[0m, in \u001b[0;36mEvent.wait\u001b[0;34m(self, timeout)\u001b[0m\n\u001b[1;32m    579\u001b[0m signaled \u001b[39m=\u001b[39m \u001b[39mself\u001b[39m\u001b[39m.\u001b[39m_flag\n\u001b[1;32m    580\u001b[0m \u001b[39mif\u001b[39;00m \u001b[39mnot\u001b[39;00m signaled:\n\u001b[0;32m--> 581\u001b[0m     signaled \u001b[39m=\u001b[39m \u001b[39mself\u001b[39;49m\u001b[39m.\u001b[39;49m_cond\u001b[39m.\u001b[39;49mwait(timeout)\n\u001b[1;32m    582\u001b[0m \u001b[39mreturn\u001b[39;00m signaled\n",
      "File \u001b[0;32m~/miniforge3/envs/ML2Project/lib/python3.9/threading.py:316\u001b[0m, in \u001b[0;36mCondition.wait\u001b[0;34m(self, timeout)\u001b[0m\n\u001b[1;32m    314\u001b[0m \u001b[39melse\u001b[39;00m:\n\u001b[1;32m    315\u001b[0m     \u001b[39mif\u001b[39;00m timeout \u001b[39m>\u001b[39m \u001b[39m0\u001b[39m:\n\u001b[0;32m--> 316\u001b[0m         gotit \u001b[39m=\u001b[39m waiter\u001b[39m.\u001b[39;49macquire(\u001b[39mTrue\u001b[39;49;00m, timeout)\n\u001b[1;32m    317\u001b[0m     \u001b[39melse\u001b[39;00m:\n\u001b[1;32m    318\u001b[0m         gotit \u001b[39m=\u001b[39m waiter\u001b[39m.\u001b[39macquire(\u001b[39mFalse\u001b[39;00m)\n",
      "\u001b[0;31mKeyboardInterrupt\u001b[0m: "
     ]
    }
   ],
   "source": [
    "print(\"Training Data:\")\n",
    "train_dataset = process_data(accepted_train, rejected_train, tokenizer, args)\n",
    "\n",
    "print(\"\\nEvaluation Data:\")\n",
    "eval_dataset = process_data(accepted_eval, rejected_eval, tokenizer, args)"
   ]
  },
  {
   "cell_type": "code",
   "execution_count": 14,
   "metadata": {},
   "outputs": [
    {
     "name": "stderr",
     "output_type": "stream",
     "text": [
      "Some weights of LlamaForSequenceClassification were not initialized from the model checkpoint at ../hf_model/ and are newly initialized: ['score.weight']\n",
      "You should probably TRAIN this model on a down-stream task to be able to use it for predictions and inference.\n"
     ]
    }
   ],
   "source": [
    "# Step 2: Load the model\n",
    "model = AutoModelForSequenceClassification.from_pretrained(args.model_name, num_labels=1)\n",
    "model.config.pad_token_id = tokenizer.pad_token_id"
   ]
  },
  {
   "cell_type": "code",
   "execution_count": 15,
   "metadata": {},
   "outputs": [],
   "source": [
    "peft_config = LoraConfig(\n",
    "    task_type=TaskType.SEQ_CLS,\n",
    "    inference_mode=False,\n",
    "    r=8,\n",
    "    lora_alpha=32,\n",
    "    lora_dropout=0.1,\n",
    ")"
   ]
  },
  {
   "cell_type": "code",
   "execution_count": 16,
   "metadata": {},
   "outputs": [
    {
     "name": "stdout",
     "output_type": "stream",
     "text": [
      "Problem at: /Users/faustogerman/miniforge3/envs/ML2Project/lib/python3.9/site-packages/transformers/integrations/integration_utils.py 740 setup\n"
     ]
    },
    {
     "ename": "KeyboardInterrupt",
     "evalue": "",
     "output_type": "error",
     "traceback": [
      "\u001b[0;31m---------------------------------------------------------------------------\u001b[0m",
      "\u001b[0;31mKeyboardInterrupt\u001b[0m                         Traceback (most recent call last)",
      "\u001b[1;32m/Users/faustogerman/Documents/GitHub/CodeRLHF/Reward Model/main.ipynb Cell 16\u001b[0m line \u001b[0;36m1\n\u001b[1;32m      <a href='vscode-notebook-cell:/Users/faustogerman/Documents/GitHub/CodeRLHF/Reward%20Model/main.ipynb#X63sZmlsZQ%3D%3D?line=0'>1</a>\u001b[0m \u001b[39m# Step 4: Define the Trainer\u001b[39;00m\n\u001b[1;32m      <a href='vscode-notebook-cell:/Users/faustogerman/Documents/GitHub/CodeRLHF/Reward%20Model/main.ipynb#X63sZmlsZQ%3D%3D?line=1'>2</a>\u001b[0m trainer \u001b[39m=\u001b[39m RewardTrainer(\n\u001b[1;32m      <a href='vscode-notebook-cell:/Users/faustogerman/Documents/GitHub/CodeRLHF/Reward%20Model/main.ipynb#X63sZmlsZQ%3D%3D?line=2'>3</a>\u001b[0m     model\u001b[39m=\u001b[39mmodel,\n\u001b[1;32m      <a href='vscode-notebook-cell:/Users/faustogerman/Documents/GitHub/CodeRLHF/Reward%20Model/main.ipynb#X63sZmlsZQ%3D%3D?line=3'>4</a>\u001b[0m     tokenizer\u001b[39m=\u001b[39mtokenizer,\n\u001b[0;32m   (...)\u001b[0m\n\u001b[1;32m      <a href='vscode-notebook-cell:/Users/faustogerman/Documents/GitHub/CodeRLHF/Reward%20Model/main.ipynb#X63sZmlsZQ%3D%3D?line=7'>8</a>\u001b[0m     peft_config\u001b[39m=\u001b[39mpeft_config\n\u001b[1;32m      <a href='vscode-notebook-cell:/Users/faustogerman/Documents/GitHub/CodeRLHF/Reward%20Model/main.ipynb#X63sZmlsZQ%3D%3D?line=8'>9</a>\u001b[0m )\n\u001b[0;32m---> <a href='vscode-notebook-cell:/Users/faustogerman/Documents/GitHub/CodeRLHF/Reward%20Model/main.ipynb#X63sZmlsZQ%3D%3D?line=10'>11</a>\u001b[0m trainer\u001b[39m.\u001b[39;49mtrain()\n",
      "File \u001b[0;32m~/miniforge3/envs/ML2Project/lib/python3.9/site-packages/transformers/trainer.py:1591\u001b[0m, in \u001b[0;36mTrainer.train\u001b[0;34m(self, resume_from_checkpoint, trial, ignore_keys_for_eval, **kwargs)\u001b[0m\n\u001b[1;32m   1589\u001b[0m         hf_hub_utils\u001b[39m.\u001b[39menable_progress_bars()\n\u001b[1;32m   1590\u001b[0m \u001b[39melse\u001b[39;00m:\n\u001b[0;32m-> 1591\u001b[0m     \u001b[39mreturn\u001b[39;00m inner_training_loop(\n\u001b[1;32m   1592\u001b[0m         args\u001b[39m=\u001b[39;49margs,\n\u001b[1;32m   1593\u001b[0m         resume_from_checkpoint\u001b[39m=\u001b[39;49mresume_from_checkpoint,\n\u001b[1;32m   1594\u001b[0m         trial\u001b[39m=\u001b[39;49mtrial,\n\u001b[1;32m   1595\u001b[0m         ignore_keys_for_eval\u001b[39m=\u001b[39;49mignore_keys_for_eval,\n\u001b[1;32m   1596\u001b[0m     )\n",
      "File \u001b[0;32m~/miniforge3/envs/ML2Project/lib/python3.9/site-packages/transformers/trainer.py:1826\u001b[0m, in \u001b[0;36mTrainer._inner_training_loop\u001b[0;34m(self, batch_size, args, resume_from_checkpoint, trial, ignore_keys_for_eval)\u001b[0m\n\u001b[1;32m   1823\u001b[0m \u001b[39mself\u001b[39m\u001b[39m.\u001b[39m_globalstep_last_logged \u001b[39m=\u001b[39m \u001b[39mself\u001b[39m\u001b[39m.\u001b[39mstate\u001b[39m.\u001b[39mglobal_step\n\u001b[1;32m   1824\u001b[0m model\u001b[39m.\u001b[39mzero_grad()\n\u001b[0;32m-> 1826\u001b[0m \u001b[39mself\u001b[39m\u001b[39m.\u001b[39mcontrol \u001b[39m=\u001b[39m \u001b[39mself\u001b[39;49m\u001b[39m.\u001b[39;49mcallback_handler\u001b[39m.\u001b[39;49mon_train_begin(args, \u001b[39mself\u001b[39;49m\u001b[39m.\u001b[39;49mstate, \u001b[39mself\u001b[39;49m\u001b[39m.\u001b[39;49mcontrol)\n\u001b[1;32m   1828\u001b[0m \u001b[39m# Skip the first epochs_trained epochs to get the random state of the dataloader at the right point.\u001b[39;00m\n\u001b[1;32m   1829\u001b[0m \u001b[39mif\u001b[39;00m \u001b[39mnot\u001b[39;00m args\u001b[39m.\u001b[39mignore_data_skip:\n",
      "File \u001b[0;32m~/miniforge3/envs/ML2Project/lib/python3.9/site-packages/transformers/trainer_callback.py:362\u001b[0m, in \u001b[0;36mCallbackHandler.on_train_begin\u001b[0;34m(self, args, state, control)\u001b[0m\n\u001b[1;32m    360\u001b[0m \u001b[39mdef\u001b[39;00m \u001b[39mon_train_begin\u001b[39m(\u001b[39mself\u001b[39m, args: TrainingArguments, state: TrainerState, control: TrainerControl):\n\u001b[1;32m    361\u001b[0m     control\u001b[39m.\u001b[39mshould_training_stop \u001b[39m=\u001b[39m \u001b[39mFalse\u001b[39;00m\n\u001b[0;32m--> 362\u001b[0m     \u001b[39mreturn\u001b[39;00m \u001b[39mself\u001b[39;49m\u001b[39m.\u001b[39;49mcall_event(\u001b[39m\"\u001b[39;49m\u001b[39mon_train_begin\u001b[39;49m\u001b[39m\"\u001b[39;49m, args, state, control)\n",
      "File \u001b[0;32m~/miniforge3/envs/ML2Project/lib/python3.9/site-packages/transformers/trainer_callback.py:406\u001b[0m, in \u001b[0;36mCallbackHandler.call_event\u001b[0;34m(self, event, args, state, control, **kwargs)\u001b[0m\n\u001b[1;32m    404\u001b[0m \u001b[39mdef\u001b[39;00m \u001b[39mcall_event\u001b[39m(\u001b[39mself\u001b[39m, event, args, state, control, \u001b[39m*\u001b[39m\u001b[39m*\u001b[39mkwargs):\n\u001b[1;32m    405\u001b[0m     \u001b[39mfor\u001b[39;00m callback \u001b[39min\u001b[39;00m \u001b[39mself\u001b[39m\u001b[39m.\u001b[39mcallbacks:\n\u001b[0;32m--> 406\u001b[0m         result \u001b[39m=\u001b[39m \u001b[39mgetattr\u001b[39;49m(callback, event)(\n\u001b[1;32m    407\u001b[0m             args,\n\u001b[1;32m    408\u001b[0m             state,\n\u001b[1;32m    409\u001b[0m             control,\n\u001b[1;32m    410\u001b[0m             model\u001b[39m=\u001b[39;49m\u001b[39mself\u001b[39;49m\u001b[39m.\u001b[39;49mmodel,\n\u001b[1;32m    411\u001b[0m             tokenizer\u001b[39m=\u001b[39;49m\u001b[39mself\u001b[39;49m\u001b[39m.\u001b[39;49mtokenizer,\n\u001b[1;32m    412\u001b[0m             optimizer\u001b[39m=\u001b[39;49m\u001b[39mself\u001b[39;49m\u001b[39m.\u001b[39;49moptimizer,\n\u001b[1;32m    413\u001b[0m             lr_scheduler\u001b[39m=\u001b[39;49m\u001b[39mself\u001b[39;49m\u001b[39m.\u001b[39;49mlr_scheduler,\n\u001b[1;32m    414\u001b[0m             train_dataloader\u001b[39m=\u001b[39;49m\u001b[39mself\u001b[39;49m\u001b[39m.\u001b[39;49mtrain_dataloader,\n\u001b[1;32m    415\u001b[0m             eval_dataloader\u001b[39m=\u001b[39;49m\u001b[39mself\u001b[39;49m\u001b[39m.\u001b[39;49meval_dataloader,\n\u001b[1;32m    416\u001b[0m             \u001b[39m*\u001b[39;49m\u001b[39m*\u001b[39;49mkwargs,\n\u001b[1;32m    417\u001b[0m         )\n\u001b[1;32m    418\u001b[0m         \u001b[39m# A Callback can skip the return of `control` if it doesn't change it.\u001b[39;00m\n\u001b[1;32m    419\u001b[0m         \u001b[39mif\u001b[39;00m result \u001b[39mis\u001b[39;00m \u001b[39mnot\u001b[39;00m \u001b[39mNone\u001b[39;00m:\n",
      "File \u001b[0;32m~/miniforge3/envs/ML2Project/lib/python3.9/site-packages/transformers/integrations/integration_utils.py:766\u001b[0m, in \u001b[0;36mWandbCallback.on_train_begin\u001b[0;34m(self, args, state, control, model, **kwargs)\u001b[0m\n\u001b[1;32m    764\u001b[0m     args\u001b[39m.\u001b[39mrun_name \u001b[39m=\u001b[39m \u001b[39mNone\u001b[39;00m\n\u001b[1;32m    765\u001b[0m \u001b[39mif\u001b[39;00m \u001b[39mnot\u001b[39;00m \u001b[39mself\u001b[39m\u001b[39m.\u001b[39m_initialized:\n\u001b[0;32m--> 766\u001b[0m     \u001b[39mself\u001b[39;49m\u001b[39m.\u001b[39;49msetup(args, state, model, \u001b[39m*\u001b[39;49m\u001b[39m*\u001b[39;49mkwargs)\n",
      "File \u001b[0;32m~/miniforge3/envs/ML2Project/lib/python3.9/site-packages/transformers/integrations/integration_utils.py:740\u001b[0m, in \u001b[0;36mWandbCallback.setup\u001b[0;34m(self, args, state, model, **kwargs)\u001b[0m\n\u001b[1;32m    737\u001b[0m         init_args[\u001b[39m\"\u001b[39m\u001b[39mname\u001b[39m\u001b[39m\"\u001b[39m] \u001b[39m=\u001b[39m args\u001b[39m.\u001b[39mrun_name\n\u001b[1;32m    739\u001b[0m \u001b[39mif\u001b[39;00m \u001b[39mself\u001b[39m\u001b[39m.\u001b[39m_wandb\u001b[39m.\u001b[39mrun \u001b[39mis\u001b[39;00m \u001b[39mNone\u001b[39;00m:\n\u001b[0;32m--> 740\u001b[0m     \u001b[39mself\u001b[39;49m\u001b[39m.\u001b[39;49m_wandb\u001b[39m.\u001b[39;49minit(\n\u001b[1;32m    741\u001b[0m         project\u001b[39m=\u001b[39;49mos\u001b[39m.\u001b[39;49mgetenv(\u001b[39m\"\u001b[39;49m\u001b[39mWANDB_PROJECT\u001b[39;49m\u001b[39m\"\u001b[39;49m, \u001b[39m\"\u001b[39;49m\u001b[39mhuggingface\u001b[39;49m\u001b[39m\"\u001b[39;49m),\n\u001b[1;32m    742\u001b[0m         \u001b[39m*\u001b[39;49m\u001b[39m*\u001b[39;49minit_args,\n\u001b[1;32m    743\u001b[0m     )\n\u001b[1;32m    744\u001b[0m \u001b[39m# add config parameters (run may have been created manually)\u001b[39;00m\n\u001b[1;32m    745\u001b[0m \u001b[39mself\u001b[39m\u001b[39m.\u001b[39m_wandb\u001b[39m.\u001b[39mconfig\u001b[39m.\u001b[39mupdate(combined_dict, allow_val_change\u001b[39m=\u001b[39m\u001b[39mTrue\u001b[39;00m)\n",
      "File \u001b[0;32m~/miniforge3/envs/ML2Project/lib/python3.9/site-packages/wandb/sdk/wandb_init.py:1189\u001b[0m, in \u001b[0;36minit\u001b[0;34m(job_type, dir, config, project, entity, reinit, tags, group, name, notes, magic, config_exclude_keys, config_include_keys, anonymous, mode, allow_val_change, resume, force, tensorboard, sync_tensorboard, monitor_gym, save_code, id, settings)\u001b[0m\n\u001b[1;32m   1187\u001b[0m     \u001b[39massert\u001b[39;00m logger\n\u001b[1;32m   1188\u001b[0m     logger\u001b[39m.\u001b[39mwarning(\u001b[39m\"\u001b[39m\u001b[39minterrupted\u001b[39m\u001b[39m\"\u001b[39m, exc_info\u001b[39m=\u001b[39me)\n\u001b[0;32m-> 1189\u001b[0m     \u001b[39mraise\u001b[39;00m e\n\u001b[1;32m   1190\u001b[0m \u001b[39mexcept\u001b[39;00m \u001b[39mException\u001b[39;00m \u001b[39mas\u001b[39;00m e:\n\u001b[1;32m   1191\u001b[0m     error_seen \u001b[39m=\u001b[39m e\n",
      "File \u001b[0;32m~/miniforge3/envs/ML2Project/lib/python3.9/site-packages/wandb/sdk/wandb_init.py:1166\u001b[0m, in \u001b[0;36minit\u001b[0;34m(job_type, dir, config, project, entity, reinit, tags, group, name, notes, magic, config_exclude_keys, config_include_keys, anonymous, mode, allow_val_change, resume, force, tensorboard, sync_tensorboard, monitor_gym, save_code, id, settings)\u001b[0m\n\u001b[1;32m   1164\u001b[0m except_exit \u001b[39m=\u001b[39m wi\u001b[39m.\u001b[39msettings\u001b[39m.\u001b[39m_except_exit\n\u001b[1;32m   1165\u001b[0m \u001b[39mtry\u001b[39;00m:\n\u001b[0;32m-> 1166\u001b[0m     run \u001b[39m=\u001b[39m wi\u001b[39m.\u001b[39;49minit()\n\u001b[1;32m   1167\u001b[0m     except_exit \u001b[39m=\u001b[39m wi\u001b[39m.\u001b[39msettings\u001b[39m.\u001b[39m_except_exit\n\u001b[1;32m   1168\u001b[0m \u001b[39mexcept\u001b[39;00m (\u001b[39mKeyboardInterrupt\u001b[39;00m, \u001b[39mException\u001b[39;00m) \u001b[39mas\u001b[39;00m e:\n",
      "File \u001b[0;32m~/miniforge3/envs/ML2Project/lib/python3.9/site-packages/wandb/sdk/wandb_init.py:811\u001b[0m, in \u001b[0;36m_WandbInit.init\u001b[0;34m(self)\u001b[0m\n\u001b[1;32m    809\u001b[0m run_start_handle \u001b[39m=\u001b[39m backend\u001b[39m.\u001b[39minterface\u001b[39m.\u001b[39mdeliver_run_start(run\u001b[39m.\u001b[39m_run_obj)\n\u001b[1;32m    810\u001b[0m \u001b[39m# TODO: add progress to let user know we are doing something\u001b[39;00m\n\u001b[0;32m--> 811\u001b[0m run_start_result \u001b[39m=\u001b[39m run_start_handle\u001b[39m.\u001b[39;49mwait(timeout\u001b[39m=\u001b[39;49m\u001b[39m30\u001b[39;49m)\n\u001b[1;32m    812\u001b[0m \u001b[39mif\u001b[39;00m run_start_result \u001b[39mis\u001b[39;00m \u001b[39mNone\u001b[39;00m:\n\u001b[1;32m    813\u001b[0m     run_start_handle\u001b[39m.\u001b[39mabandon()\n",
      "File \u001b[0;32m~/miniforge3/envs/ML2Project/lib/python3.9/site-packages/wandb/sdk/lib/mailbox.py:283\u001b[0m, in \u001b[0;36mMailboxHandle.wait\u001b[0;34m(self, timeout, on_probe, on_progress, release, cancel)\u001b[0m\n\u001b[1;32m    280\u001b[0m     \u001b[39mif\u001b[39;00m \u001b[39mself\u001b[39m\u001b[39m.\u001b[39m_interface\u001b[39m.\u001b[39m_transport_keepalive_failed():\n\u001b[1;32m    281\u001b[0m         \u001b[39mraise\u001b[39;00m MailboxError(\u001b[39m\"\u001b[39m\u001b[39mtransport failed\u001b[39m\u001b[39m\"\u001b[39m)\n\u001b[0;32m--> 283\u001b[0m found, abandoned \u001b[39m=\u001b[39m \u001b[39mself\u001b[39;49m\u001b[39m.\u001b[39;49m_slot\u001b[39m.\u001b[39;49m_get_and_clear(timeout\u001b[39m=\u001b[39;49mwait_timeout)\n\u001b[1;32m    284\u001b[0m \u001b[39mif\u001b[39;00m found:\n\u001b[1;32m    285\u001b[0m     \u001b[39m# Always update progress to 100% when done\u001b[39;00m\n\u001b[1;32m    286\u001b[0m     \u001b[39mif\u001b[39;00m on_progress \u001b[39mand\u001b[39;00m progress_handle \u001b[39mand\u001b[39;00m progress_sent:\n",
      "File \u001b[0;32m~/miniforge3/envs/ML2Project/lib/python3.9/site-packages/wandb/sdk/lib/mailbox.py:130\u001b[0m, in \u001b[0;36m_MailboxSlot._get_and_clear\u001b[0;34m(self, timeout)\u001b[0m\n\u001b[1;32m    128\u001b[0m \u001b[39mdef\u001b[39;00m \u001b[39m_get_and_clear\u001b[39m(\u001b[39mself\u001b[39m, timeout: \u001b[39mfloat\u001b[39m) \u001b[39m-\u001b[39m\u001b[39m>\u001b[39m Tuple[Optional[pb\u001b[39m.\u001b[39mResult], \u001b[39mbool\u001b[39m]:\n\u001b[1;32m    129\u001b[0m     found \u001b[39m=\u001b[39m \u001b[39mNone\u001b[39;00m\n\u001b[0;32m--> 130\u001b[0m     \u001b[39mif\u001b[39;00m \u001b[39mself\u001b[39;49m\u001b[39m.\u001b[39;49m_wait(timeout\u001b[39m=\u001b[39;49mtimeout):\n\u001b[1;32m    131\u001b[0m         \u001b[39mwith\u001b[39;00m \u001b[39mself\u001b[39m\u001b[39m.\u001b[39m_lock:\n\u001b[1;32m    132\u001b[0m             found \u001b[39m=\u001b[39m \u001b[39mself\u001b[39m\u001b[39m.\u001b[39m_result\n",
      "File \u001b[0;32m~/miniforge3/envs/ML2Project/lib/python3.9/site-packages/wandb/sdk/lib/mailbox.py:126\u001b[0m, in \u001b[0;36m_MailboxSlot._wait\u001b[0;34m(self, timeout)\u001b[0m\n\u001b[1;32m    125\u001b[0m \u001b[39mdef\u001b[39;00m \u001b[39m_wait\u001b[39m(\u001b[39mself\u001b[39m, timeout: \u001b[39mfloat\u001b[39m) \u001b[39m-\u001b[39m\u001b[39m>\u001b[39m \u001b[39mbool\u001b[39m:\n\u001b[0;32m--> 126\u001b[0m     \u001b[39mreturn\u001b[39;00m \u001b[39mself\u001b[39;49m\u001b[39m.\u001b[39;49m_event\u001b[39m.\u001b[39;49mwait(timeout\u001b[39m=\u001b[39;49mtimeout)\n",
      "File \u001b[0;32m~/miniforge3/envs/ML2Project/lib/python3.9/threading.py:581\u001b[0m, in \u001b[0;36mEvent.wait\u001b[0;34m(self, timeout)\u001b[0m\n\u001b[1;32m    579\u001b[0m signaled \u001b[39m=\u001b[39m \u001b[39mself\u001b[39m\u001b[39m.\u001b[39m_flag\n\u001b[1;32m    580\u001b[0m \u001b[39mif\u001b[39;00m \u001b[39mnot\u001b[39;00m signaled:\n\u001b[0;32m--> 581\u001b[0m     signaled \u001b[39m=\u001b[39m \u001b[39mself\u001b[39;49m\u001b[39m.\u001b[39;49m_cond\u001b[39m.\u001b[39;49mwait(timeout)\n\u001b[1;32m    582\u001b[0m \u001b[39mreturn\u001b[39;00m signaled\n",
      "File \u001b[0;32m~/miniforge3/envs/ML2Project/lib/python3.9/threading.py:316\u001b[0m, in \u001b[0;36mCondition.wait\u001b[0;34m(self, timeout)\u001b[0m\n\u001b[1;32m    314\u001b[0m \u001b[39melse\u001b[39;00m:\n\u001b[1;32m    315\u001b[0m     \u001b[39mif\u001b[39;00m timeout \u001b[39m>\u001b[39m \u001b[39m0\u001b[39m:\n\u001b[0;32m--> 316\u001b[0m         gotit \u001b[39m=\u001b[39m waiter\u001b[39m.\u001b[39;49macquire(\u001b[39mTrue\u001b[39;49;00m, timeout)\n\u001b[1;32m    317\u001b[0m     \u001b[39melse\u001b[39;00m:\n\u001b[1;32m    318\u001b[0m         gotit \u001b[39m=\u001b[39m waiter\u001b[39m.\u001b[39macquire(\u001b[39mFalse\u001b[39;00m)\n",
      "\u001b[0;31mKeyboardInterrupt\u001b[0m: "
     ]
    }
   ],
   "source": [
    "# Step 4: Define the Trainer\n",
    "trainer = RewardTrainer(\n",
    "    model=model,\n",
    "    tokenizer=tokenizer,\n",
    "    args=args.reward_config,\n",
    "    train_dataset=train_dataset,\n",
    "    eval_dataset=eval_dataset,\n",
    "    peft_config=peft_config\n",
    ")\n",
    "\n",
    "trainer.train()"
   ]
  },
  {
   "cell_type": "code",
   "execution_count": null,
   "metadata": {},
   "outputs": [],
   "source": []
  }
 ],
 "metadata": {
  "kernelspec": {
   "display_name": "ML2Project",
   "language": "python",
   "name": "python3"
  },
  "language_info": {
   "codemirror_mode": {
    "name": "ipython",
    "version": 3
   },
   "file_extension": ".py",
   "mimetype": "text/x-python",
   "name": "python",
   "nbconvert_exporter": "python",
   "pygments_lexer": "ipython3",
   "version": "3.9.18"
  }
 },
 "nbformat": 4,
 "nbformat_minor": 2
}
